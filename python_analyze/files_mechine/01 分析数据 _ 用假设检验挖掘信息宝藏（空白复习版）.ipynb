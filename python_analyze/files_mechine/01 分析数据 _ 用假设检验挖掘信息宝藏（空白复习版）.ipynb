{
 "cells": [
  {
   "cell_type": "code",
   "metadata": {
    "ExecuteTime": {
     "end_time": "2025-04-14T02:23:01.694691Z",
     "start_time": "2025-04-14T02:23:01.688731Z"
    }
   },
   "source": [
    "import numpy as np\n",
    "import pandas as pd\n",
    "\n",
    "# 引入t检验相关函数\n",
    "from scipy.stats import ttest_ind\n",
    "\n",
    "# 引入Z检验相关函数\n",
    "from statsmodels.stats.weightstats import ztest\n",
    "\n",
    "# 引入绘图相关库\n",
    "import seaborn as sns\n",
    "import matplotlib.pyplot as plt\n",
    "import matplotlib"
   ],
   "outputs": [],
   "execution_count": 1
  },
  {
   "cell_type": "markdown",
   "metadata": {},
   "source": [
    "## t检验"
   ]
  },
  {
   "cell_type": "code",
   "metadata": {
    "ExecuteTime": {
     "end_time": "2025-04-14T02:23:16.111449Z",
     "start_time": "2025-04-14T02:23:16.090511Z"
    }
   },
   "source": [
    "height_df = pd.read_csv(\"../datas_mechine/height.csv\")\n",
    "height_df"
   ],
   "outputs": [
    {
     "data": {
      "text/plain": [
       "     身高 地区\n",
       "0   165  A\n",
       "1   167  A\n",
       "2   172  A\n",
       "3   176  A\n",
       "4   178  A\n",
       "5   180  A\n",
       "6   182  A\n",
       "7   183  A\n",
       "8   185  A\n",
       "9   188  A\n",
       "10  155  B\n",
       "11  158  B\n",
       "12  160  B\n",
       "13  162  B\n",
       "14  165  B\n",
       "15  168  B\n",
       "16  172  B\n",
       "17  176  B\n",
       "18  179  B\n",
       "19  182  B"
      ],
      "text/html": [
       "<div>\n",
       "<style scoped>\n",
       "    .dataframe tbody tr th:only-of-type {\n",
       "        vertical-align: middle;\n",
       "    }\n",
       "\n",
       "    .dataframe tbody tr th {\n",
       "        vertical-align: top;\n",
       "    }\n",
       "\n",
       "    .dataframe thead th {\n",
       "        text-align: right;\n",
       "    }\n",
       "</style>\n",
       "<table border=\"1\" class=\"dataframe\">\n",
       "  <thead>\n",
       "    <tr style=\"text-align: right;\">\n",
       "      <th></th>\n",
       "      <th>身高</th>\n",
       "      <th>地区</th>\n",
       "    </tr>\n",
       "  </thead>\n",
       "  <tbody>\n",
       "    <tr>\n",
       "      <th>0</th>\n",
       "      <td>165</td>\n",
       "      <td>A</td>\n",
       "    </tr>\n",
       "    <tr>\n",
       "      <th>1</th>\n",
       "      <td>167</td>\n",
       "      <td>A</td>\n",
       "    </tr>\n",
       "    <tr>\n",
       "      <th>2</th>\n",
       "      <td>172</td>\n",
       "      <td>A</td>\n",
       "    </tr>\n",
       "    <tr>\n",
       "      <th>3</th>\n",
       "      <td>176</td>\n",
       "      <td>A</td>\n",
       "    </tr>\n",
       "    <tr>\n",
       "      <th>4</th>\n",
       "      <td>178</td>\n",
       "      <td>A</td>\n",
       "    </tr>\n",
       "    <tr>\n",
       "      <th>5</th>\n",
       "      <td>180</td>\n",
       "      <td>A</td>\n",
       "    </tr>\n",
       "    <tr>\n",
       "      <th>6</th>\n",
       "      <td>182</td>\n",
       "      <td>A</td>\n",
       "    </tr>\n",
       "    <tr>\n",
       "      <th>7</th>\n",
       "      <td>183</td>\n",
       "      <td>A</td>\n",
       "    </tr>\n",
       "    <tr>\n",
       "      <th>8</th>\n",
       "      <td>185</td>\n",
       "      <td>A</td>\n",
       "    </tr>\n",
       "    <tr>\n",
       "      <th>9</th>\n",
       "      <td>188</td>\n",
       "      <td>A</td>\n",
       "    </tr>\n",
       "    <tr>\n",
       "      <th>10</th>\n",
       "      <td>155</td>\n",
       "      <td>B</td>\n",
       "    </tr>\n",
       "    <tr>\n",
       "      <th>11</th>\n",
       "      <td>158</td>\n",
       "      <td>B</td>\n",
       "    </tr>\n",
       "    <tr>\n",
       "      <th>12</th>\n",
       "      <td>160</td>\n",
       "      <td>B</td>\n",
       "    </tr>\n",
       "    <tr>\n",
       "      <th>13</th>\n",
       "      <td>162</td>\n",
       "      <td>B</td>\n",
       "    </tr>\n",
       "    <tr>\n",
       "      <th>14</th>\n",
       "      <td>165</td>\n",
       "      <td>B</td>\n",
       "    </tr>\n",
       "    <tr>\n",
       "      <th>15</th>\n",
       "      <td>168</td>\n",
       "      <td>B</td>\n",
       "    </tr>\n",
       "    <tr>\n",
       "      <th>16</th>\n",
       "      <td>172</td>\n",
       "      <td>B</td>\n",
       "    </tr>\n",
       "    <tr>\n",
       "      <th>17</th>\n",
       "      <td>176</td>\n",
       "      <td>B</td>\n",
       "    </tr>\n",
       "    <tr>\n",
       "      <th>18</th>\n",
       "      <td>179</td>\n",
       "      <td>B</td>\n",
       "    </tr>\n",
       "    <tr>\n",
       "      <th>19</th>\n",
       "      <td>182</td>\n",
       "      <td>B</td>\n",
       "    </tr>\n",
       "  </tbody>\n",
       "</table>\n",
       "</div>"
      ]
     },
     "execution_count": 2,
     "metadata": {},
     "output_type": "execute_result"
    }
   ],
   "execution_count": 2
  },
  {
   "cell_type": "code",
   "metadata": {
    "ExecuteTime": {
     "end_time": "2025-04-14T02:23:38.038189Z",
     "start_time": "2025-04-14T02:23:38.025222Z"
    }
   },
   "source": [
    "region_a_height = height_df.query(\"地区 == 'A'\")['身高']\n",
    "region_b_height = height_df.query(\"地区 == 'B'\")['身高']"
   ],
   "outputs": [],
   "execution_count": 3
  },
  {
   "cell_type": "code",
   "metadata": {
    "ExecuteTime": {
     "end_time": "2025-04-14T02:23:38.889249Z",
     "start_time": "2025-04-14T02:23:38.883405Z"
    }
   },
   "source": [
    "region_a_height"
   ],
   "outputs": [
    {
     "data": {
      "text/plain": [
       "0    165\n",
       "1    167\n",
       "2    172\n",
       "3    176\n",
       "4    178\n",
       "5    180\n",
       "6    182\n",
       "7    183\n",
       "8    185\n",
       "9    188\n",
       "Name: 身高, dtype: int64"
      ]
     },
     "execution_count": 4,
     "metadata": {},
     "output_type": "execute_result"
    }
   ],
   "execution_count": 4
  },
  {
   "cell_type": "code",
   "metadata": {
    "ExecuteTime": {
     "end_time": "2025-04-14T02:23:39.813390Z",
     "start_time": "2025-04-14T02:23:39.807752Z"
    }
   },
   "source": [
    "region_b_height"
   ],
   "outputs": [
    {
     "data": {
      "text/plain": [
       "10    155\n",
       "11    158\n",
       "12    160\n",
       "13    162\n",
       "14    165\n",
       "15    168\n",
       "16    172\n",
       "17    176\n",
       "18    179\n",
       "19    182\n",
       "Name: 身高, dtype: int64"
      ]
     },
     "execution_count": 5,
     "metadata": {},
     "output_type": "execute_result"
    }
   ],
   "execution_count": 5
  },
  {
   "cell_type": "code",
   "metadata": {
    "ExecuteTime": {
     "end_time": "2025-04-14T02:30:16.414006Z",
     "start_time": "2025-04-14T02:30:16.408800Z"
    }
   },
   "source": [
    "# 替换图表的字体（你的系统上不一定有这个Heiti TC字体，如果没有的话需要替换成其它的）\n",
    "matplotlib.rc(\"font\",family='YouYuan')"
   ],
   "outputs": [],
   "execution_count": 16
  },
  {
   "cell_type": "code",
   "metadata": {
    "ExecuteTime": {
     "end_time": "2025-04-14T02:30:17.230717Z",
     "start_time": "2025-04-14T02:30:17.159168Z"
    }
   },
   "source": [
    "sns.kdeplot(region_a_height)\n",
    "sns.kdeplot(region_b_height)\n",
    "plt.show()"
   ],
   "outputs": [
    {
     "data": {
      "text/plain": [
       "<Figure size 640x480 with 1 Axes>"
      ],
      "image/png": "[encoded data removed]"
     },
     "metadata": {},
     "output_type": "display_data"
    }
   ],
   "execution_count": 17
  },
  {
   "cell_type": "code",
   "metadata": {
    "ExecuteTime": {
     "end_time": "2025-04-14T02:30:50.786130Z",
     "start_time": "2025-04-14T02:30:50.779320Z"
    }
   },
   "source": [
    "# 进行t检验\n",
    "t_stat, p_value = ttest_ind(region_a_height, region_b_height)\n"
   ],
   "outputs": [],
   "execution_count": 18
  },
  {
   "cell_type": "code",
   "metadata": {
    "ExecuteTime": {
     "end_time": "2025-04-14T02:36:56.906269Z",
     "start_time": "2025-04-14T02:36:56.902319Z"
    }
   },
   "source": [
    "# 显著水平为0.05（显著水平一般用alpha字母表示）\n",
    "alpha = 0.05\n",
    "\n",
    "\n",
    "# 比较计算出的p值和显著水平，打印是否有显著差异的结论\n",
    "if p_value < alpha:\n",
    "    print('两组数据有显著差异')\n",
    "else:\n",
    "    print('两组数据无显著差异')\n"
   ],
   "outputs": [
    {
     "name": "stdout",
     "output_type": "stream",
     "text": [
      "两组数据有显著差异\n"
     ]
    }
   ],
   "execution_count": 28
  },
  {
   "cell_type": "markdown",
   "metadata": {},
   "source": [
    "## Z检验"
   ]
  },
  {
   "cell_type": "code",
   "metadata": {
    "ExecuteTime": {
     "end_time": "2025-04-14T02:31:53.867561Z",
     "start_time": "2025-04-14T02:31:53.857274Z"
    }
   },
   "source": [
    "height_df2 = pd.read_csv(\"../datas_mechine/height2.csv\")\n",
    "height_df2"
   ],
   "outputs": [
    {
     "data": {
      "text/plain": [
       "     身高 地区\n",
       "0   175  A\n",
       "1   169  A\n",
       "2   176  A\n",
       "3   185  A\n",
       "4   168  A\n",
       "..  ... ..\n",
       "61  173  B\n",
       "62  164  B\n",
       "63  163  B\n",
       "64  183  B\n",
       "65  189  B\n",
       "\n",
       "[66 rows x 2 columns]"
      ],
      "text/html": [
       "<div>\n",
       "<style scoped>\n",
       "    .dataframe tbody tr th:only-of-type {\n",
       "        vertical-align: middle;\n",
       "    }\n",
       "\n",
       "    .dataframe tbody tr th {\n",
       "        vertical-align: top;\n",
       "    }\n",
       "\n",
       "    .dataframe thead th {\n",
       "        text-align: right;\n",
       "    }\n",
       "</style>\n",
       "<table border=\"1\" class=\"dataframe\">\n",
       "  <thead>\n",
       "    <tr style=\"text-align: right;\">\n",
       "      <th></th>\n",
       "      <th>身高</th>\n",
       "      <th>地区</th>\n",
       "    </tr>\n",
       "  </thead>\n",
       "  <tbody>\n",
       "    <tr>\n",
       "      <th>0</th>\n",
       "      <td>175</td>\n",
       "      <td>A</td>\n",
       "    </tr>\n",
       "    <tr>\n",
       "      <th>1</th>\n",
       "      <td>169</td>\n",
       "      <td>A</td>\n",
       "    </tr>\n",
       "    <tr>\n",
       "      <th>2</th>\n",
       "      <td>176</td>\n",
       "      <td>A</td>\n",
       "    </tr>\n",
       "    <tr>\n",
       "      <th>3</th>\n",
       "      <td>185</td>\n",
       "      <td>A</td>\n",
       "    </tr>\n",
       "    <tr>\n",
       "      <th>4</th>\n",
       "      <td>168</td>\n",
       "      <td>A</td>\n",
       "    </tr>\n",
       "    <tr>\n",
       "      <th>...</th>\n",
       "      <td>...</td>\n",
       "      <td>...</td>\n",
       "    </tr>\n",
       "    <tr>\n",
       "      <th>61</th>\n",
       "      <td>173</td>\n",
       "      <td>B</td>\n",
       "    </tr>\n",
       "    <tr>\n",
       "      <th>62</th>\n",
       "      <td>164</td>\n",
       "      <td>B</td>\n",
       "    </tr>\n",
       "    <tr>\n",
       "      <th>63</th>\n",
       "      <td>163</td>\n",
       "      <td>B</td>\n",
       "    </tr>\n",
       "    <tr>\n",
       "      <th>64</th>\n",
       "      <td>183</td>\n",
       "      <td>B</td>\n",
       "    </tr>\n",
       "    <tr>\n",
       "      <th>65</th>\n",
       "      <td>189</td>\n",
       "      <td>B</td>\n",
       "    </tr>\n",
       "  </tbody>\n",
       "</table>\n",
       "<p>66 rows × 2 columns</p>\n",
       "</div>"
      ]
     },
     "execution_count": 20,
     "metadata": {},
     "output_type": "execute_result"
    }
   ],
   "execution_count": 20
  },
  {
   "cell_type": "code",
   "metadata": {
    "ExecuteTime": {
     "end_time": "2025-04-14T02:31:56.292897Z",
     "start_time": "2025-04-14T02:31:56.286873Z"
    }
   },
   "source": [
    "region_a_height2 = height_df2.query(\"地区 == 'A'\")['身高']\n",
    "region_b_height2 = height_df2.query(\"地区 == 'B'\")['身高']"
   ],
   "outputs": [],
   "execution_count": 21
  },
  {
   "metadata": {
    "ExecuteTime": {
     "end_time": "2025-04-14T02:32:14.000257Z",
     "start_time": "2025-04-14T02:32:13.996424Z"
    }
   },
   "cell_type": "code",
   "source": "matplotlib.rc(\"font\",family='YouYuan')",
   "outputs": [],
   "execution_count": 23
  },
  {
   "cell_type": "code",
   "metadata": {
    "ExecuteTime": {
     "end_time": "2025-04-14T02:32:14.679641Z",
     "start_time": "2025-04-14T02:32:14.600553Z"
    }
   },
   "source": [
    "sns.kdeplot(region_a_height2)\n",
    "sns.kdeplot(region_b_height2)\n",
    "plt.show()"
   ],
   "outputs": [
    {
     "data": {
      "text/plain": [
       "<Figure size 640x480 with 1 Axes>"
      ],
      "image/png": "[encoded data removed]"
     },
     "metadata": {},
     "output_type": "display_data"
    }
   ],
   "execution_count": 24
  },
  {
   "cell_type": "code",
   "metadata": {
    "ExecuteTime": {
     "end_time": "2025-04-14T02:37:01.731380Z",
     "start_time": "2025-04-14T02:37:01.727673Z"
    }
   },
   "source": [
    "# 计算z值和p值（双尾）\n",
    "z_stat, p_value = ztest(region_a_height2, region_b_height2,alternative='two-sided')\n",
    "\n",
    "\n",
    "# 显著水平为0.05（显著水平一般用alpha字母表示）\n",
    "alpha = 0.05\n",
    "\n",
    "\n",
    "# 比较计算出的p值和显著水平，打印是否有显著差异的结论\n",
    "if p_value < alpha:\n",
    "    print('两组数据有显著差异')\n",
    "else:\n",
    "    print('两组数据无显著差异')"
   ],
   "outputs": [
    {
     "name": "stdout",
     "output_type": "stream",
     "text": [
      "两组数据有显著差异\n"
     ]
    }
   ],
   "execution_count": 29
  },
  {
   "cell_type": "code",
   "metadata": {
    "ExecuteTime": {
     "end_time": "2025-04-14T02:37:03.208275Z",
     "start_time": "2025-04-14T02:37:03.204617Z"
    }
   },
   "source": [
    "# 计算z值和p值（单尾正差异）\n",
    "z_stat,p_value = ztest(region_a_height2, region_b_height2,alternative='larger')\n",
    "\n",
    "\n",
    "# 显著水平为0.025（显著水平一般用alpha字母表示）\n",
    "alpha = 0.025\n",
    "\n",
    "\n",
    "# 比较计算出的p值和显著水平，打印是否有显著差异的结论\n",
    "if p_value < alpha:\n",
    "    print('两组数据有显著差异')\n",
    "else:\n",
    "    print('两组数据无显著差异')\n",
    "\n"
   ],
   "outputs": [
    {
     "name": "stdout",
     "output_type": "stream",
     "text": [
      "两组数据无显著差异\n"
     ]
    }
   ],
   "execution_count": 30
  },
  {
   "cell_type": "code",
   "metadata": {
    "ExecuteTime": {
     "end_time": "2025-04-14T02:37:04.704667Z",
     "start_time": "2025-04-14T02:37:04.699091Z"
    }
   },
   "source": [
    "# 计算z值和p值（单尾负差异）\n",
    "z_stat,p_value = ztest(region_a_height2, region_b_height2,alternative='smaller')\n",
    "\n",
    "\n",
    "# 显著水平为0.025（显著水平一般用alpha字母表示）\n",
    "alpha = 0.025\n",
    "\n",
    "\n",
    "\n",
    "# 比较计算出的p值和显著水平，打印是否有显著差异的结论\n",
    "if p_value < alpha:\n",
    "    print('两组数据有显著差异')\n",
    "else:\n",
    "    print('两组数据无显著差异')\n",
    "\n"
   ],
   "outputs": [
    {
     "name": "stdout",
     "output_type": "stream",
     "text": [
      "两组数据有显著差异\n"
     ]
    }
   ],
   "execution_count": 31
  },
  {
   "metadata": {},
   "cell_type": "code",
   "outputs": [],
   "execution_count": null,
   "source": ""
  }
 ],
 "metadata": {
  "kernelspec": {
   "display_name": "Python 3",
   "language": "python",
   "name": "python3"
  },
  "language_info": {
   "codemirror_mode": {
    "name": "ipython",
    "version": 3
   },
   "file_extension": ".py",
   "mimetype": "text/x-python",
   "name": "python",
   "nbconvert_exporter": "python",
   "pygments_lexer": "ipython3",
   "version": "3.8.1"
  }
 },
 "nbformat": 4,
 "nbformat_minor": 4
}
