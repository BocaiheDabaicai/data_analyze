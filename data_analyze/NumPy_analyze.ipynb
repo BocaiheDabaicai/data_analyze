{
 "cells": [
  {
   "cell_type": "code",
   "execution_count": 3,
   "id": "d70a789c-5d0f-4aa3-9651-b4f76629edf0",
   "metadata": {},
   "outputs": [],
   "source": [
    "import numpy as np"
   ]
  },
  {
   "cell_type": "code",
   "execution_count": 2,
   "id": "4e41c4df-4b18-400a-86b2-be49e0e62ced",
   "metadata": {},
   "outputs": [
    {
     "data": {
      "text/plain": [
       "array([1, 2, 3])"
      ]
     },
     "execution_count": 2,
     "metadata": {},
     "output_type": "execute_result"
    }
   ],
   "source": [
    "arr1 = np.array([1,2,3])\n",
    "arr1"
   ]
  },
  {
   "cell_type": "code",
   "execution_count": 3,
   "id": "b322f561-005a-4455-ba88-0cc8381f89d3",
   "metadata": {},
   "outputs": [
    {
     "data": {
      "text/plain": [
       "array([[1, 2, 3],\n",
       "       [4, 5, 6]])"
      ]
     },
     "execution_count": 3,
     "metadata": {},
     "output_type": "execute_result"
    }
   ],
   "source": [
    "arr2 = np.array([[1,2,3],[4,5,6]])\n",
    "arr2"
   ]
  },
  {
   "cell_type": "code",
   "execution_count": 5,
   "id": "23b70899-0174-4c74-b4b9-fadadc6040f1",
   "metadata": {},
   "outputs": [
    {
     "name": "stdout",
     "output_type": "stream",
     "text": [
      "(3,)\n"
     ]
    }
   ],
   "source": [
    "print(arr1.shape)"
   ]
  },
  {
   "cell_type": "code",
   "execution_count": 6,
   "id": "a6d6c63a-0b0a-46d0-9ad6-66abab66619a",
   "metadata": {},
   "outputs": [
    {
     "name": "stdout",
     "output_type": "stream",
     "text": [
      "(2, 3)\n"
     ]
    }
   ],
   "source": [
    "print(arr2.shape)"
   ]
  },
  {
   "cell_type": "code",
   "execution_count": 7,
   "id": "7ce3a3fa-dd3f-4836-985c-c53b3fb3bed7",
   "metadata": {},
   "outputs": [
    {
     "name": "stdout",
     "output_type": "stream",
     "text": [
      "3\n",
      "6\n"
     ]
    }
   ],
   "source": [
    "print(arr1.size)\n",
    "print(arr2.size)"
   ]
  },
  {
   "cell_type": "code",
   "execution_count": 8,
   "id": "8db6bb2f-d340-43ba-bb04-7f46b7ab6e9f",
   "metadata": {},
   "outputs": [
    {
     "name": "stdout",
     "output_type": "stream",
     "text": [
      "int64\n",
      "int64\n"
     ]
    }
   ],
   "source": [
    "print(arr1.dtype)\n",
    "print(arr2.dtype)"
   ]
  },
  {
   "cell_type": "code",
   "execution_count": 12,
   "id": "0ebefab6-4120-4e6d-8e70-da464467790b",
   "metadata": {},
   "outputs": [
    {
     "name": "stdout",
     "output_type": "stream",
     "text": [
      "[0. 0. 0.]\n",
      "[1. 1. 1. 1. 1.]\n"
     ]
    }
   ],
   "source": [
    "print(np.zeros(3))\n",
    "print(np.ones(5))"
   ]
  },
  {
   "cell_type": "code",
   "execution_count": 13,
   "id": "e6cbbac3-b4a6-4adf-8eda-76a453b1008e",
   "metadata": {},
   "outputs": [
    {
     "name": "stdout",
     "output_type": "stream",
     "text": [
      "[5 7 9]\n"
     ]
    }
   ],
   "source": [
    "print(np.arange(5,10,2))"
   ]
  },
  {
   "cell_type": "markdown",
   "id": "77bdc1b3-5a34-4756-8eb0-8ade74dfcba6",
   "metadata": {},
   "source": [
    "## practice"
   ]
  },
  {
   "cell_type": "code",
   "execution_count": 14,
   "id": "6d8c9c7e-841e-472c-8870-957ac285d525",
   "metadata": {},
   "outputs": [],
   "source": [
    "arr3 = np.array([6,2,-7,2,8,-2,1])\n",
    "arr4 = np.array([[1,3,5],[2,4,6]])"
   ]
  },
  {
   "cell_type": "code",
   "execution_count": 17,
   "id": "bf422945-3912-42d9-9cc0-a1027b02e961",
   "metadata": {},
   "outputs": [
    {
     "name": "stdout",
     "output_type": "stream",
     "text": [
      "1\n",
      "(7,)\n",
      "7\n",
      "int64\n"
     ]
    }
   ],
   "source": [
    "print(arr3.ndim)\n",
    "print(arr3.shape)\n",
    "print(arr3.size)\n",
    "print(arr3.dtype)"
   ]
  },
  {
   "cell_type": "code",
   "execution_count": 18,
   "id": "92cf3333-3d73-4953-a274-38ef2ad87c72",
   "metadata": {},
   "outputs": [
    {
     "name": "stdout",
     "output_type": "stream",
     "text": [
      "2\n",
      "(2, 3)\n",
      "6\n",
      "int64\n"
     ]
    }
   ],
   "source": [
    "print(arr4.ndim)\n",
    "print(arr4.shape)\n",
    "print(arr4.size)\n",
    "print(arr4.dtype)"
   ]
  },
  {
   "cell_type": "code",
   "execution_count": 19,
   "id": "a6d20128-5430-4ee4-a165-341c00ada28f",
   "metadata": {},
   "outputs": [
    {
     "name": "stdout",
     "output_type": "stream",
     "text": [
      "[0. 0. 0. 0. 0. 0.]\n"
     ]
    }
   ],
   "source": [
    "arr_all_0 = np.zeros(6)\n",
    "print(arr_all_0)"
   ]
  },
  {
   "cell_type": "code",
   "execution_count": 20,
   "id": "215387af-5a0d-45ee-9dc9-056fc384dff4",
   "metadata": {},
   "outputs": [
    {
     "name": "stdout",
     "output_type": "stream",
     "text": [
      "[1. 1. 1. 1. 1. 1.]\n"
     ]
    }
   ],
   "source": [
    "arr_all_1 = np.ones(6)\n",
    "print(arr_all_1)"
   ]
  },
  {
   "cell_type": "code",
   "execution_count": 23,
   "id": "cfbe1b2f-5e5e-4886-b692-bd05bcb77fe5",
   "metadata": {},
   "outputs": [
    {
     "name": "stdout",
     "output_type": "stream",
     "text": [
      "[10 12 14 16 18 20]\n"
     ]
    }
   ],
   "source": [
    "arr_even = np.arange(10,21,2)\n",
    "print(arr_even)"
   ]
  },
  {
   "cell_type": "code",
   "execution_count": 12,
   "id": "57e60e22-aa6c-499d-9593-15ba0eeb0d4b",
   "metadata": {},
   "outputs": [
    {
     "name": "stdout",
     "output_type": "stream",
     "text": [
      "[ 2  3  4  6 12 66  5  9  1  0]\n",
      "[ 0  1  2  3  4  5  6  9 12 66]\n"
     ]
    }
   ],
   "source": [
    "arr5 = np.array([2,3,4,6])\n",
    "arr6 = np.array([12,66,5,9])\n",
    "arr7 = np.array([1,0])\n",
    "arr8 = np.concatenate([arr5,arr6,arr7])\n",
    "print(arr8)\n",
    "print(np.sort(arr8))"
   ]
  },
  {
   "cell_type": "code",
   "execution_count": 13,
   "id": "b3495a72-94f0-4895-a46f-32d0d3c5a948",
   "metadata": {},
   "outputs": [
    {
     "name": "stdout",
     "output_type": "stream",
     "text": [
      "2\n",
      "0\n",
      "[ 3  4  6 12]\n"
     ]
    }
   ],
   "source": [
    "print(arr8[0])\n",
    "print(arr8[-1])\n",
    "print(arr8[1:5])"
   ]
  },
  {
   "cell_type": "code",
   "execution_count": 14,
   "id": "05101b18-f8f4-4a78-962b-cd5114fbd88f",
   "metadata": {},
   "outputs": [
    {
     "name": "stdout",
     "output_type": "stream",
     "text": [
      "[14 69  9 15]\n",
      "[-10 -63  -1  -3]\n",
      "[ 24 198  20  54]\n",
      "[0.16666667 0.04545455 0.8        0.66666667]\n"
     ]
    }
   ],
   "source": [
    "print(arr5 + arr6)\n",
    "print(arr5 - arr6)\n",
    "print(arr5 * arr6)\n",
    "print(arr5 / arr6)"
   ]
  },
  {
   "cell_type": "code",
   "execution_count": 16,
   "id": "46b2c2b7-f392-4f9b-a8e1-a0318d789805",
   "metadata": {},
   "outputs": [
    {
     "name": "stdout",
     "output_type": "stream",
     "text": [
      "[ 6  9 12 18]\n",
      "[5 6 7 9]\n",
      "[-1  0  1  3]\n",
      "[0.66666667 1.         1.33333333 2.        ]\n"
     ]
    }
   ],
   "source": [
    "print(arr5 * 3)\n",
    "print(arr5 + 3)\n",
    "print(arr5 - 3)\n",
    "print(arr5 / 3)"
   ]
  },
  {
   "cell_type": "code",
   "execution_count": 18,
   "id": "6cb846e2-0f50-4326-a764-eec287dc7a0f",
   "metadata": {},
   "outputs": [
    {
     "name": "stdout",
     "output_type": "stream",
     "text": [
      "6\n",
      "2\n",
      "15\n",
      "3.75\n"
     ]
    }
   ],
   "source": [
    "print(arr5.max())\n",
    "print(arr5.min())\n",
    "print(arr5.sum())\n",
    "print(arr5.mean())"
   ]
  },
  {
   "cell_type": "code",
   "execution_count": 26,
   "id": "62a89e45-9d9f-43d2-92c2-81cfadf9cb94",
   "metadata": {},
   "outputs": [
    {
     "name": "stdout",
     "output_type": "stream",
     "text": [
      "[3 4 6]\n",
      "[]\n",
      "[2]\n",
      "[3 4]\n"
     ]
    }
   ],
   "source": [
    "print(arr5[arr5>2])\n",
    "print(arr5[arr5<2])\n",
    "print(arr5[arr5==2])\n",
    "print(arr5[(arr5>2) & (arr5 <5)])"
   ]
  },
  {
   "cell_type": "markdown",
   "id": "365f5299-af49-49a5-84a2-f534c13c3f4f",
   "metadata": {},
   "source": [
    "## NumPy练习-2"
   ]
  },
  {
   "cell_type": "code",
   "execution_count": null,
   "id": "f7bd0a18-516b-4cee-ba54-9dbe101bf5d4",
   "metadata": {},
   "outputs": [],
   "source": []
  }
 ],
 "metadata": {
  "kernelspec": {
   "display_name": "Python 3 (ipykernel)",
   "language": "python",
   "name": "python3"
  },
  "language_info": {
   "codemirror_mode": {
    "name": "ipython",
    "version": 3
   },
   "file_extension": ".py",
   "mimetype": "text/x-python",
   "name": "python",
   "nbconvert_exporter": "python",
   "pygments_lexer": "ipython3",
   "version": "3.13.2"
  }
 },
 "nbformat": 4,
 "nbformat_minor": 5
}
