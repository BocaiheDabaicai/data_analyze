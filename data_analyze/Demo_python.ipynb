{
 "cells": [
  {
   "cell_type": "code",
   "execution_count": 1,
   "id": "6abbecfd-cc31-4c43-8961-d93969cb6c6c",
   "metadata": {},
   "outputs": [
    {
     "name": "stdout",
     "output_type": "stream",
     "text": [
      "dsadasd\n"
     ]
    }
   ],
   "source": [
    "print(\"dsadasd\")"
   ]
  },
  {
   "cell_type": "markdown",
   "id": "754fecf4-286e-48cd-8842-66e58e9c65d5",
   "metadata": {},
   "source": [
    "## 你好呀"
   ]
  },
  {
   "cell_type": "code",
   "execution_count": 2,
   "id": "d92ca132-99f4-4d59-9f32-7b25648cac29",
   "metadata": {},
   "outputs": [],
   "source": [
    "x = 1 + 3"
   ]
  },
  {
   "cell_type": "code",
   "execution_count": 3,
   "id": "b93ea09b-0376-45e4-94fd-2756f3584102",
   "metadata": {},
   "outputs": [
    {
     "name": "stdout",
     "output_type": "stream",
     "text": [
      "4\n"
     ]
    }
   ],
   "source": [
    "print(x)"
   ]
  },
  {
   "cell_type": "markdown",
   "id": "06e0c878-8e63-49fd-a185-e9dc454061b3",
   "metadata": {},
   "source": [
    "> 这是一个注释"
   ]
  },
  {
   "cell_type": "markdown",
   "id": "96a05cc4-b6cd-431c-b22a-204abc77942e",
   "metadata": {},
   "source": [
    "~~这是删除线~~"
   ]
  },
  {
   "cell_type": "code",
   "execution_count": 6,
   "id": "47c598f1-e455-4a95-ac62-b6279b769192",
   "metadata": {},
   "outputs": [],
   "source": [
    "import numpy as np"
   ]
  },
  {
   "cell_type": "code",
   "execution_count": 9,
   "id": "f4320fd5-8faf-469c-8fcc-a59ab4b0d840",
   "metadata": {},
   "outputs": [
    {
     "data": {
      "text/plain": [
       "array([1, 2, 3])"
      ]
     },
     "execution_count": 9,
     "metadata": {},
     "output_type": "execute_result"
    }
   ],
   "source": [
    "arr1 = np.array([1,2,3])\n",
    "arr1"
   ]
  },
  {
   "cell_type": "code",
   "execution_count": 10,
   "id": "b5252a20-4ea9-4a20-a535-7dd2959cdc0b",
   "metadata": {},
   "outputs": [
    {
     "data": {
      "text/plain": [
       "array([[1, 2, 3],\n",
       "       [4, 5, 6]])"
      ]
     },
     "execution_count": 10,
     "metadata": {},
     "output_type": "execute_result"
    }
   ],
   "source": [
    "arr2 = np.array([[1,2,3],[4,5,6]])\n",
    "arr2"
   ]
  }
 ],
 "metadata": {
  "kernelspec": {
   "display_name": "Python 3 (ipykernel)",
   "language": "python",
   "name": "python3"
  },
  "language_info": {
   "codemirror_mode": {
    "name": "ipython",
    "version": 3
   },
   "file_extension": ".py",
   "mimetype": "text/x-python",
   "name": "python",
   "nbconvert_exporter": "python",
   "pygments_lexer": "ipython3",
   "version": "3.13.2"
  }
 },
 "nbformat": 4,
 "nbformat_minor": 5
}
