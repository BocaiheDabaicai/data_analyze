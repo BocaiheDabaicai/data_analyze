{
 "cells": [
  {
   "cell_type": "code",
   "execution_count": 3,
   "id": "446cd463-79d9-40f2-ba20-1bac0e5934fb",
   "metadata": {},
   "outputs": [],
   "source": [
    "import pandas as pd"
   ]
  },
  {
   "cell_type": "code",
   "execution_count": 6,
   "id": "f9cc92bd-e481-4039-a3f3-0e064871b5c3",
   "metadata": {},
   "outputs": [
    {
     "name": "stdout",
     "output_type": "stream",
     "text": [
      "0    2\n",
      "1    3\n",
      "2    7\n",
      "3    8\n",
      "4    5\n",
      "5    1\n",
      "dtype: int64\n",
      "RangeIndex(start=0, stop=6, step=1)\n",
      "[2 3 7 8 5 1]\n"
     ]
    }
   ],
   "source": [
    "s1 = pd.Series([2,3,7,8,5,1])\n",
    "print(s1)\n",
    "print(s1.index)\n",
    "print(s1.values)"
   ]
  },
  {
   "cell_type": "code",
   "execution_count": 7,
   "id": "d3005ccc-cde3-4cee-80c3-6c358123eddd",
   "metadata": {},
   "outputs": [
    {
     "name": "stdout",
     "output_type": "stream",
     "text": [
      "7\n",
      "2    7\n",
      "3    8\n",
      "4    5\n",
      "dtype: int64\n"
     ]
    }
   ],
   "source": [
    "print(s1[2])\n",
    "print(s1[2:5])"
   ]
  },
  {
   "cell_type": "code",
   "execution_count": 8,
   "id": "ce25f8d3-d77b-4c64-9914-b90ee3dd63d0",
   "metadata": {},
   "outputs": [
    {
     "name": "stdout",
     "output_type": "stream",
     "text": [
      "a     2\n",
      "b     4\n",
      "d     7\n",
      "c     9\n",
      "e    11\n",
      "dtype: int64\n"
     ]
    }
   ],
   "source": [
    "s2 = pd.Series([2,4,7,9,11],index=[\"a\",\"b\",\"d\",\"c\",\"e\"])\n",
    "print(s2)"
   ]
  },
  {
   "cell_type": "code",
   "execution_count": 27,
   "id": "855047da-379b-4213-9a4e-ed93ca8059bf",
   "metadata": {},
   "outputs": [
    {
     "name": "stdout",
     "output_type": "stream",
     "text": [
      "7\n",
      "9\n",
      "d     7\n",
      "c     9\n",
      "e    11\n",
      "dtype: int64\n",
      "a    2\n",
      "b    4\n",
      "d    7\n",
      "c    9\n",
      "dtype: int64\n"
     ]
    }
   ],
   "source": [
    "print(s2.iloc[2])\n",
    "print(s2.loc[\"c\"])\n",
    "print(s2.iloc[2:5])\n",
    "print(s2.loc[\"a\":\"c\"])"
   ]
  },
  {
   "cell_type": "code",
   "execution_count": 13,
   "id": "f9cdb58c-45c4-4286-8db3-fb4e4a222305",
   "metadata": {},
   "outputs": [
    {
     "name": "stdout",
     "output_type": "stream",
     "text": [
      "big     23.2\n",
      "Tip     19.6\n",
      "Mari    10.2\n",
      "dtype: float64\n"
     ]
    }
   ],
   "source": [
    "s3 = pd.Series({\"big\":23.2,\"Tip\":19.6,\"Mari\":10.2})\n",
    "print(s3)"
   ]
  },
  {
   "cell_type": "code",
   "execution_count": 16,
   "id": "ec585fd7-1ab8-4593-9314-3b2c53e25d59",
   "metadata": {},
   "outputs": [
    {
     "name": "stdout",
     "output_type": "stream",
     "text": [
      "True\n"
     ]
    }
   ],
   "source": [
    "print(\"big\" in s3)"
   ]
  },
  {
   "cell_type": "code",
   "execution_count": 20,
   "id": "ca2ae2d9-6461-40dd-8cff-8713ec92013e",
   "metadata": {},
   "outputs": [
    {
     "name": "stdout",
     "output_type": "stream",
     "text": [
      "29.9\n",
      "29.9\n",
      "29.9\n"
     ]
    }
   ],
   "source": [
    "s3[\"big\"] = 29.9\n",
    "print(s3[\"big\"])\n",
    "print(s3.loc[\"big\"])\n",
    "print(s3.iloc[0])"
   ]
  },
  {
   "cell_type": "code",
   "execution_count": 28,
   "id": "c573d6a2-18e6-448f-9bab-64166271cc5a",
   "metadata": {},
   "outputs": [
    {
     "name": "stdout",
     "output_type": "stream",
     "text": [
      "big    29.9\n",
      "dtype: float64\n",
      "big     29.9\n",
      "Tip     19.6\n",
      "Mari    10.2\n",
      "dtype: float64\n",
      "Tip     19.6\n",
      "Mari    10.2\n",
      "dtype: float64\n"
     ]
    }
   ],
   "source": [
    "print(s3[s3>20])\n",
    "print(s3[(s3>10) & s3<30])\n",
    "print(s3[~(s3>20)])"
   ]
  },
  {
   "cell_type": "markdown",
   "id": "870f2b8b-e111-4f09-8b1f-f350589394b9",
   "metadata": {},
   "source": [
    "## series的更多操作"
   ]
  },
  {
   "cell_type": "code",
   "execution_count": 7,
   "id": "0195dbf3-909d-4d5f-9018-4b9b35618c44",
   "metadata": {},
   "outputs": [
    {
     "name": "stdout",
     "output_type": "stream",
     "text": [
      "0    3.0\n",
      "1    9.0\n",
      "2    NaN\n",
      "dtype: float64\n"
     ]
    }
   ],
   "source": [
    "s4 = pd.Series([1,3,4])\n",
    "s5 = pd.Series([2,6])\n",
    "print(s4+s5)"
   ]
  },
  {
   "cell_type": "code",
   "execution_count": 10,
   "id": "523100f9-9f9c-4a35-8062-650478e3a58a",
   "metadata": {},
   "outputs": [
    {
     "name": "stdout",
     "output_type": "stream",
     "text": [
      "0    3.0\n",
      "1    9.0\n",
      "2    4.0\n",
      "dtype: float64\n",
      "0   -1.0\n",
      "1   -3.0\n",
      "2    4.0\n",
      "dtype: float64\n",
      "0     2.0\n",
      "1    18.0\n",
      "2     0.0\n",
      "dtype: float64\n",
      "0    0.5\n",
      "1    0.5\n",
      "2    4.0\n",
      "dtype: float64\n"
     ]
    }
   ],
   "source": [
    "print(s4.add(s5,fill_value=0))\n",
    "print(s4.sub(s5,fill_value=0))\n",
    "print(s4.mul(s5,fill_value=0))\n",
    "print(s4.div(s5,fill_value=1))"
   ]
  },
  {
   "cell_type": "code",
   "execution_count": 11,
   "id": "10432c9f-b279-4417-a739-ddfbe27ee458",
   "metadata": {},
   "outputs": [
    {
     "data": {
      "text/plain": [
       "count    3.000000\n",
       "mean     2.666667\n",
       "std      1.527525\n",
       "min      1.000000\n",
       "25%      2.000000\n",
       "50%      3.000000\n",
       "75%      3.500000\n",
       "max      4.000000\n",
       "dtype: float64"
      ]
     },
     "execution_count": 11,
     "metadata": {},
     "output_type": "execute_result"
    }
   ],
   "source": [
    "s4.describe()"
   ]
  },
  {
   "cell_type": "code",
   "execution_count": 12,
   "id": "e8f4e63e-3a02-4aa4-9bf7-61bfa29e9154",
   "metadata": {},
   "outputs": [],
   "source": [
    "def get_grade(score):\n",
    "    if score >= 90:\n",
    "        return \"A\"\n",
    "    elif score >= 80:\n",
    "        return \"B\"\n",
    "    elif score >= 70:\n",
    "        return \"C\"\n",
    "    else:\n",
    "        return \"D\""
   ]
  },
  {
   "cell_type": "code",
   "execution_count": 15,
   "id": "e580843f-2dd8-4c75-b7a8-ccbcea4d17df",
   "metadata": {},
   "outputs": [
    {
     "name": "stdout",
     "output_type": "stream",
     "text": [
      "0    D\n",
      "1    D\n",
      "2    B\n",
      "3    A\n",
      "4    D\n",
      "5    D\n",
      "6    D\n",
      "7    C\n",
      "8    B\n",
      "dtype: object\n"
     ]
    }
   ],
   "source": [
    "scores = pd.Series([54,66,88,90,23,55,48,77,80])\n",
    "grades = scores.apply(get_grade)\n",
    "print(grades)"
   ]
  },
  {
   "cell_type": "markdown",
   "id": "5abcef6f-2ade-4c08-be8d-8fc85b0121f6",
   "metadata": {},
   "source": [
    "## DataFrame表格"
   ]
  },
  {
   "cell_type": "code",
   "execution_count": 16,
   "id": "35b2098c-b81c-4065-959c-cb9b7c6221de",
   "metadata": {},
   "outputs": [
    {
     "name": "stdout",
     "output_type": "stream",
     "text": [
      "   学号  班级  成绩\n",
      "0  01  二班  92\n",
      "1  02  一班  67\n",
      "2  03  二班  55\n",
      "3  04  三班  88\n",
      "4  05  一班  74\n"
     ]
    }
   ],
   "source": [
    "s_id = pd.Series([\"01\",\"02\",\"03\",\"04\",\"05\"])\n",
    "s_class = pd.Series([\"二班\",\"一班\",\"二班\",\"三班\",\"一班\"])\n",
    "s_grade = pd.Series([92,67,55,88,74])\n",
    "\n",
    "df1 = pd.DataFrame({\"学号\":s_id,\"班级\":s_class,\"成绩\":s_grade})\n",
    "print(df1)"
   ]
  },
  {
   "cell_type": "code",
   "execution_count": 18,
   "id": "7ebe304b-fbd8-4782-9303-bcf81e10fa3d",
   "metadata": {},
   "outputs": [
    {
     "name": "stdout",
     "output_type": "stream",
     "text": [
      "RangeIndex(start=0, stop=5, step=1)\n",
      "Index(['学号', '班级', '成绩'], dtype='object')\n",
      "[['01' '二班' 92]\n",
      " ['02' '一班' 67]\n",
      " ['03' '二班' 55]\n",
      " ['04' '三班' 88]\n",
      " ['05' '一班' 74]]\n"
     ]
    }
   ],
   "source": [
    "print(df1.index)\n",
    "print(df1.columns)\n",
    "print(df1.values)"
   ]
  },
  {
   "cell_type": "code",
   "execution_count": 21,
   "id": "1e18e8ce-8648-405d-8dff-b2f1e127ca31",
   "metadata": {},
   "outputs": [
    {
     "name": "stdout",
     "output_type": "stream",
     "text": [
      "0     True\n",
      "1    False\n",
      "2    False\n",
      "3     True\n",
      "4    False\n",
      "Name: 成绩, dtype: bool\n",
      "   学号  班级  成绩\n",
      "0  01  二班  92\n",
      "3  04  三班  88\n"
     ]
    }
   ],
   "source": [
    "print(df1[\"成绩\"]>=80)\n",
    "print(df1[df1[\"成绩\"]>=80])"
   ]
  },
  {
   "cell_type": "code",
   "execution_count": 22,
   "id": "badb913e-baac-4ffd-a346-7cfca4b45eb5",
   "metadata": {},
   "outputs": [
    {
     "name": "stdout",
     "output_type": "stream",
     "text": [
      "   学号  班级  成绩\n",
      "0  01  二班  92\n",
      "1  02  一班  67\n",
      "2  03  二班  55\n",
      "3  04  三班  88\n",
      "4  05  一班  74\n",
      "   学号  班级  成绩\n",
      "0  01  二班  92\n",
      "1  02  一班  67\n"
     ]
    }
   ],
   "source": [
    "print(df1.head())\n",
    "print(df1.head(2))"
   ]
  },
  {
   "cell_type": "code",
   "execution_count": null,
   "id": "945e6c85-cbbe-48f3-a971-ad4b398d988e",
   "metadata": {},
   "outputs": [],
   "source": []
  }
 ],
 "metadata": {
  "kernelspec": {
   "display_name": "Python 3 (ipykernel)",
   "language": "python",
   "name": "python3"
  },
  "language_info": {
   "codemirror_mode": {
    "name": "ipython",
    "version": 3
   },
   "file_extension": ".py",
   "mimetype": "text/x-python",
   "name": "python",
   "nbconvert_exporter": "python",
   "pygments_lexer": "ipython3",
   "version": "3.13.2"
  }
 },
 "nbformat": 4,
 "nbformat_minor": 5
}
