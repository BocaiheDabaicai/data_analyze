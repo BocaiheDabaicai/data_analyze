{
 "cells": [
  {
   "cell_type": "code",
   "execution_count": 62,
   "id": "446cd463-79d9-40f2-ba20-1bac0e5934fb",
   "metadata": {},
   "outputs": [],
   "source": [
    "import pandas as pd\n",
    "import numpy as np"
   ]
  },
  {
   "cell_type": "code",
   "execution_count": 6,
   "id": "f9cc92bd-e481-4039-a3f3-0e064871b5c3",
   "metadata": {},
   "outputs": [
    {
     "name": "stdout",
     "output_type": "stream",
     "text": [
      "0    2\n",
      "1    3\n",
      "2    7\n",
      "3    8\n",
      "4    5\n",
      "5    1\n",
      "dtype: int64\n",
      "RangeIndex(start=0, stop=6, step=1)\n",
      "[2 3 7 8 5 1]\n"
     ]
    }
   ],
   "source": [
    "s1 = pd.Series([2,3,7,8,5,1])\n",
    "print(s1)\n",
    "print(s1.index)\n",
    "print(s1.values)"
   ]
  },
  {
   "cell_type": "code",
   "execution_count": 7,
   "id": "d3005ccc-cde3-4cee-80c3-6c358123eddd",
   "metadata": {},
   "outputs": [
    {
     "name": "stdout",
     "output_type": "stream",
     "text": [
      "7\n",
      "2    7\n",
      "3    8\n",
      "4    5\n",
      "dtype: int64\n"
     ]
    }
   ],
   "source": [
    "print(s1[2])\n",
    "print(s1[2:5])"
   ]
  },
  {
   "cell_type": "code",
   "execution_count": 8,
   "id": "ce25f8d3-d77b-4c64-9914-b90ee3dd63d0",
   "metadata": {},
   "outputs": [
    {
     "name": "stdout",
     "output_type": "stream",
     "text": [
      "a     2\n",
      "b     4\n",
      "d     7\n",
      "c     9\n",
      "e    11\n",
      "dtype: int64\n"
     ]
    }
   ],
   "source": [
    "s2 = pd.Series([2,4,7,9,11],index=[\"a\",\"b\",\"d\",\"c\",\"e\"])\n",
    "print(s2)"
   ]
  },
  {
   "cell_type": "code",
   "execution_count": 27,
   "id": "855047da-379b-4213-9a4e-ed93ca8059bf",
   "metadata": {},
   "outputs": [
    {
     "name": "stdout",
     "output_type": "stream",
     "text": [
      "7\n",
      "9\n",
      "d     7\n",
      "c     9\n",
      "e    11\n",
      "dtype: int64\n",
      "a    2\n",
      "b    4\n",
      "d    7\n",
      "c    9\n",
      "dtype: int64\n"
     ]
    }
   ],
   "source": [
    "print(s2.iloc[2])\n",
    "print(s2.loc[\"c\"])\n",
    "print(s2.iloc[2:5])\n",
    "print(s2.loc[\"a\":\"c\"])"
   ]
  },
  {
   "cell_type": "code",
   "execution_count": 13,
   "id": "f9cdb58c-45c4-4286-8db3-fb4e4a222305",
   "metadata": {},
   "outputs": [
    {
     "name": "stdout",
     "output_type": "stream",
     "text": [
      "big     23.2\n",
      "Tip     19.6\n",
      "Mari    10.2\n",
      "dtype: float64\n"
     ]
    }
   ],
   "source": [
    "s3 = pd.Series({\"big\":23.2,\"Tip\":19.6,\"Mari\":10.2})\n",
    "print(s3)"
   ]
  },
  {
   "cell_type": "code",
   "execution_count": 16,
   "id": "ec585fd7-1ab8-4593-9314-3b2c53e25d59",
   "metadata": {},
   "outputs": [
    {
     "name": "stdout",
     "output_type": "stream",
     "text": [
      "True\n"
     ]
    }
   ],
   "source": [
    "print(\"big\" in s3)"
   ]
  },
  {
   "cell_type": "code",
   "execution_count": 20,
   "id": "ca2ae2d9-6461-40dd-8cff-8713ec92013e",
   "metadata": {},
   "outputs": [
    {
     "name": "stdout",
     "output_type": "stream",
     "text": [
      "29.9\n",
      "29.9\n",
      "29.9\n"
     ]
    }
   ],
   "source": [
    "s3[\"big\"] = 29.9\n",
    "print(s3[\"big\"])\n",
    "print(s3.loc[\"big\"])\n",
    "print(s3.iloc[0])"
   ]
  },
  {
   "cell_type": "code",
   "execution_count": 28,
   "id": "c573d6a2-18e6-448f-9bab-64166271cc5a",
   "metadata": {},
   "outputs": [
    {
     "name": "stdout",
     "output_type": "stream",
     "text": [
      "big    29.9\n",
      "dtype: float64\n",
      "big     29.9\n",
      "Tip     19.6\n",
      "Mari    10.2\n",
      "dtype: float64\n",
      "Tip     19.6\n",
      "Mari    10.2\n",
      "dtype: float64\n"
     ]
    }
   ],
   "source": [
    "print(s3[s3>20])\n",
    "print(s3[(s3>10) & s3<30])\n",
    "print(s3[~(s3>20)])"
   ]
  },
  {
   "cell_type": "markdown",
   "id": "870f2b8b-e111-4f09-8b1f-f350589394b9",
   "metadata": {},
   "source": [
    "## series的更多操作"
   ]
  },
  {
   "cell_type": "code",
   "execution_count": 7,
   "id": "0195dbf3-909d-4d5f-9018-4b9b35618c44",
   "metadata": {},
   "outputs": [
    {
     "name": "stdout",
     "output_type": "stream",
     "text": [
      "0    3.0\n",
      "1    9.0\n",
      "2    NaN\n",
      "dtype: float64\n"
     ]
    }
   ],
   "source": [
    "s4 = pd.Series([1,3,4])\n",
    "s5 = pd.Series([2,6])\n",
    "print(s4+s5)"
   ]
  },
  {
   "cell_type": "code",
   "execution_count": 10,
   "id": "523100f9-9f9c-4a35-8062-650478e3a58a",
   "metadata": {},
   "outputs": [
    {
     "name": "stdout",
     "output_type": "stream",
     "text": [
      "0    3.0\n",
      "1    9.0\n",
      "2    4.0\n",
      "dtype: float64\n",
      "0   -1.0\n",
      "1   -3.0\n",
      "2    4.0\n",
      "dtype: float64\n",
      "0     2.0\n",
      "1    18.0\n",
      "2     0.0\n",
      "dtype: float64\n",
      "0    0.5\n",
      "1    0.5\n",
      "2    4.0\n",
      "dtype: float64\n"
     ]
    }
   ],
   "source": [
    "print(s4.add(s5,fill_value=0))\n",
    "print(s4.sub(s5,fill_value=0))\n",
    "print(s4.mul(s5,fill_value=0))\n",
    "print(s4.div(s5,fill_value=1))"
   ]
  },
  {
   "cell_type": "code",
   "execution_count": 11,
   "id": "10432c9f-b279-4417-a739-ddfbe27ee458",
   "metadata": {},
   "outputs": [
    {
     "data": {
      "text/plain": [
       "count    3.000000\n",
       "mean     2.666667\n",
       "std      1.527525\n",
       "min      1.000000\n",
       "25%      2.000000\n",
       "50%      3.000000\n",
       "75%      3.500000\n",
       "max      4.000000\n",
       "dtype: float64"
      ]
     },
     "execution_count": 11,
     "metadata": {},
     "output_type": "execute_result"
    }
   ],
   "source": [
    "s4.describe()"
   ]
  },
  {
   "cell_type": "code",
   "execution_count": 12,
   "id": "e8f4e63e-3a02-4aa4-9bf7-61bfa29e9154",
   "metadata": {},
   "outputs": [],
   "source": [
    "def get_grade(score):\n",
    "    if score >= 90:\n",
    "        return \"A\"\n",
    "    elif score >= 80:\n",
    "        return \"B\"\n",
    "    elif score >= 70:\n",
    "        return \"C\"\n",
    "    else:\n",
    "        return \"D\""
   ]
  },
  {
   "cell_type": "code",
   "execution_count": 15,
   "id": "e580843f-2dd8-4c75-b7a8-ccbcea4d17df",
   "metadata": {},
   "outputs": [
    {
     "name": "stdout",
     "output_type": "stream",
     "text": [
      "0    D\n",
      "1    D\n",
      "2    B\n",
      "3    A\n",
      "4    D\n",
      "5    D\n",
      "6    D\n",
      "7    C\n",
      "8    B\n",
      "dtype: object\n"
     ]
    }
   ],
   "source": [
    "scores = pd.Series([54,66,88,90,23,55,48,77,80])\n",
    "grades = scores.apply(get_grade)\n",
    "print(grades)"
   ]
  },
  {
   "cell_type": "markdown",
   "id": "5abcef6f-2ade-4c08-be8d-8fc85b0121f6",
   "metadata": {},
   "source": [
    "## DataFrame表格"
   ]
  },
  {
   "cell_type": "code",
   "execution_count": 16,
   "id": "35b2098c-b81c-4065-959c-cb9b7c6221de",
   "metadata": {},
   "outputs": [
    {
     "name": "stdout",
     "output_type": "stream",
     "text": [
      "   学号  班级  成绩\n",
      "0  01  二班  92\n",
      "1  02  一班  67\n",
      "2  03  二班  55\n",
      "3  04  三班  88\n",
      "4  05  一班  74\n"
     ]
    }
   ],
   "source": [
    "s_id = pd.Series([\"01\",\"02\",\"03\",\"04\",\"05\"])\n",
    "s_class = pd.Series([\"二班\",\"一班\",\"二班\",\"三班\",\"一班\"])\n",
    "s_grade = pd.Series([92,67,55,88,74])\n",
    "\n",
    "df1 = pd.DataFrame({\"学号\":s_id,\"班级\":s_class,\"成绩\":s_grade})\n",
    "print(df1)"
   ]
  },
  {
   "cell_type": "code",
   "execution_count": 18,
   "id": "7ebe304b-fbd8-4782-9303-bcf81e10fa3d",
   "metadata": {},
   "outputs": [
    {
     "name": "stdout",
     "output_type": "stream",
     "text": [
      "RangeIndex(start=0, stop=5, step=1)\n",
      "Index(['学号', '班级', '成绩'], dtype='object')\n",
      "[['01' '二班' 92]\n",
      " ['02' '一班' 67]\n",
      " ['03' '二班' 55]\n",
      " ['04' '三班' 88]\n",
      " ['05' '一班' 74]]\n"
     ]
    }
   ],
   "source": [
    "print(df1.index)\n",
    "print(df1.columns)\n",
    "print(df1.values)"
   ]
  },
  {
   "cell_type": "code",
   "execution_count": 21,
   "id": "1e18e8ce-8648-405d-8dff-b2f1e127ca31",
   "metadata": {},
   "outputs": [
    {
     "name": "stdout",
     "output_type": "stream",
     "text": [
      "0     True\n",
      "1    False\n",
      "2    False\n",
      "3     True\n",
      "4    False\n",
      "Name: 成绩, dtype: bool\n",
      "   学号  班级  成绩\n",
      "0  01  二班  92\n",
      "3  04  三班  88\n"
     ]
    }
   ],
   "source": [
    "print(df1[\"成绩\"]>=80)\n",
    "print(df1[df1[\"成绩\"]>=80])"
   ]
  },
  {
   "cell_type": "code",
   "execution_count": 22,
   "id": "badb913e-baac-4ffd-a346-7cfca4b45eb5",
   "metadata": {},
   "outputs": [
    {
     "name": "stdout",
     "output_type": "stream",
     "text": [
      "   学号  班级  成绩\n",
      "0  01  二班  92\n",
      "1  02  一班  67\n",
      "2  03  二班  55\n",
      "3  04  三班  88\n",
      "4  05  一班  74\n",
      "   学号  班级  成绩\n",
      "0  01  二班  92\n",
      "1  02  一班  67\n"
     ]
    }
   ],
   "source": [
    "print(df1.head())\n",
    "print(df1.head(2))"
   ]
  },
  {
   "cell_type": "markdown",
   "id": "e077af9e-a8ac-4b3b-9249-7bcd8b330167",
   "metadata": {},
   "source": [
    "## 表格练习"
   ]
  },
  {
   "cell_type": "code",
   "execution_count": 2,
   "id": "733ad707-0ac9-4980-9a48-e34e62b1e704",
   "metadata": {},
   "outputs": [
    {
     "name": "stdout",
     "output_type": "stream",
     "text": [
      "    name gender  height\n",
      "001   小陈      男   172.5\n",
      "002   小李      女   168.0\n",
      "003   小王      男   178.2\n",
      "004   小张      男   181.3\n",
      "005   小赵      女   161.7\n",
      "006   小周      女   155.9\n",
      "Index(['001', '002', '003', '004', '005', '006'], dtype='object')\n",
      "Index(['name', 'gender', 'height'], dtype='object')\n",
      "          001    002    003    004    005    006\n",
      "name       小陈     小李     小王     小张     小赵     小周\n",
      "gender      男      女      男      男      女      女\n",
      "height  172.5  168.0  178.2  181.3  161.7  155.9\n",
      "001    172.5\n",
      "002    168.0\n",
      "003    178.2\n",
      "004    181.3\n",
      "005    161.7\n",
      "006    155.9\n",
      "Name: height, dtype: float64\n",
      "001    172.5\n",
      "002    168.0\n",
      "003    178.2\n",
      "004    181.3\n",
      "005    161.7\n",
      "006    155.9\n",
      "Name: height, dtype: float64\n",
      "    gender  height\n",
      "001      男   172.5\n",
      "002      女   168.0\n",
      "003      男   178.2\n",
      "004      男   181.3\n",
      "005      女   161.7\n",
      "006      女   155.9\n",
      "name         小陈\n",
      "gender        男\n",
      "height    172.5\n",
      "Name: 001, dtype: object\n",
      "    name gender  height\n",
      "003   小王      男   178.2\n",
      "004   小张      男   181.3\n",
      "005   小赵      女   161.7\n",
      "161.7\n",
      "    name  height\n",
      "003   小王   178.2\n",
      "005   小赵   161.7\n",
      "    name gender  height\n",
      "003   小王      男   178.2\n",
      "005   小赵      女   161.7\n",
      "003    小王\n",
      "005    小赵\n",
      "Name: name, dtype: object\n",
      "    name gender  height\n",
      "003   小王      男   178.2\n",
      "005   小赵      女   161.7\n",
      "    name gender  height\n",
      "003   小王      男   178.2\n",
      "005   小赵      女   161.7\n",
      "001     True\n",
      "002     True\n",
      "003     True\n",
      "004     True\n",
      "005    False\n",
      "006    False\n",
      "Name: height, dtype: bool\n",
      "001    False\n",
      "002     True\n",
      "003    False\n",
      "004    False\n",
      "005     True\n",
      "006     True\n",
      "Name: gender, dtype: bool\n",
      "    name gender  height\n",
      "002   小李      女   168.0\n",
      "    name gender  height\n",
      "001   小陈      男   172.5\n",
      "002   小李      女   168.0\n",
      "003   小王      男   178.2\n",
      "004   小张      男   181.3\n",
      "005   小赵      女   161.7\n"
     ]
    }
   ],
   "source": [
    "name = pd.Series([\"小陈\",\"小李\",\"小王\",\"小张\",\"小赵\",\"小周\"],index=[\"001\",\"002\",\"003\",\"004\",\"005\",\"006\"])\n",
    "gender = pd.Series([\"女\",\"女\",\"男\",\"男\",\"女\",\"男\"],index=[\"006\",\"005\",\"004\",\"003\",\"002\",\"001\"])\n",
    "height = pd.Series([172.5,168.0,178.2,181.3,161.7,155.9],index=[\"001\",\"002\",\"003\",\"004\",\"005\",\"006\"])\n",
    "\n",
    "students = pd.DataFrame({\"name\":name,\"gender\":gender,\"height\":height})\n",
    "print(students)\n",
    "\n",
    "print(students.index)\n",
    "print(students.columns)\n",
    "print(students.T)\n",
    "\n",
    "# 第二种方法更通用\n",
    "print(students.height)\n",
    "print(students[\"height\"])\n",
    "\n",
    "print(students[[\"gender\",\"height\"]])\n",
    "\n",
    "print(students.loc[\"001\"])\n",
    "print(students.loc[\"003\":\"005\"])\n",
    "\n",
    "print(students.loc[\"005\",\"height\"])\n",
    "print(students.loc[[\"003\",\"005\"],[\"name\",\"height\"]])\n",
    "\n",
    "# 选定列，并圈定输出数据\n",
    "print(students.loc[[\"003\",\"005\"],\"name\":\"height\"])\n",
    "print(students.loc[[\"003\",\"005\"],\"name\"])\n",
    "print(students.loc[[\"003\",\"005\"],:\"height\"])\n",
    "print(students.loc[[\"003\",\"005\"]])\n",
    "\n",
    "print(students[\"height\"]>165.0)\n",
    "print(students[\"gender\"]==\"女\")\n",
    "print(students[(students[\"height\"]>165.0) & (students[\"gender\"]==\"女\")])\n",
    "\n",
    "print(students.head(5))"
   ]
  },
  {
   "cell_type": "markdown",
   "id": "9902b9d6-504f-45e1-a252-48d1c00f3bc8",
   "metadata": {},
   "source": [
    "## DataFrame更多操作"
   ]
  },
  {
   "cell_type": "code",
   "execution_count": 5,
   "id": "e6edab0c-db85-4380-a4b4-ade68ad64bdf",
   "metadata": {},
   "outputs": [
    {
     "data": {
      "text/html": [
       "<div>\n",
       "<style scoped>\n",
       "    .dataframe tbody tr th:only-of-type {\n",
       "        vertical-align: middle;\n",
       "    }\n",
       "\n",
       "    .dataframe tbody tr th {\n",
       "        vertical-align: top;\n",
       "    }\n",
       "\n",
       "    .dataframe thead th {\n",
       "        text-align: right;\n",
       "    }\n",
       "</style>\n",
       "<table border=\"1\" class=\"dataframe\">\n",
       "  <thead>\n",
       "    <tr style=\"text-align: right;\">\n",
       "      <th></th>\n",
       "      <th>name</th>\n",
       "      <th>gender</th>\n",
       "      <th>height</th>\n",
       "    </tr>\n",
       "  </thead>\n",
       "  <tbody>\n",
       "    <tr>\n",
       "      <th>001</th>\n",
       "      <td>小陈</td>\n",
       "      <td>男</td>\n",
       "      <td>166</td>\n",
       "    </tr>\n",
       "    <tr>\n",
       "      <th>002</th>\n",
       "      <td>小李</td>\n",
       "      <td>女</td>\n",
       "      <td>155</td>\n",
       "    </tr>\n",
       "    <tr>\n",
       "      <th>003</th>\n",
       "      <td>小王</td>\n",
       "      <td>男</td>\n",
       "      <td>144</td>\n",
       "    </tr>\n",
       "    <tr>\n",
       "      <th>004</th>\n",
       "      <td>小张</td>\n",
       "      <td>男</td>\n",
       "      <td>133</td>\n",
       "    </tr>\n",
       "    <tr>\n",
       "      <th>005</th>\n",
       "      <td>小赵</td>\n",
       "      <td>女</td>\n",
       "      <td>176</td>\n",
       "    </tr>\n",
       "    <tr>\n",
       "      <th>006</th>\n",
       "      <td>小周</td>\n",
       "      <td>女</td>\n",
       "      <td>171</td>\n",
       "    </tr>\n",
       "  </tbody>\n",
       "</table>\n",
       "</div>"
      ],
      "text/plain": [
       "    name gender  height\n",
       "001   小陈      男     166\n",
       "002   小李      女     155\n",
       "003   小王      男     144\n",
       "004   小张      男     133\n",
       "005   小赵      女     176\n",
       "006   小周      女     171"
      ]
     },
     "execution_count": 5,
     "metadata": {},
     "output_type": "execute_result"
    }
   ],
   "source": [
    "students[\"height\"] = pd.Series([166,155,144,133,176,171],index=[\"001\",\"002\",\"003\",\"004\",\"005\",\"006\"])\n",
    "students"
   ]
  },
  {
   "cell_type": "code",
   "execution_count": 6,
   "id": "de4a2e16-9e4b-41d3-b35b-1d431c4974d2",
   "metadata": {},
   "outputs": [
    {
     "data": {
      "text/html": [
       "<div>\n",
       "<style scoped>\n",
       "    .dataframe tbody tr th:only-of-type {\n",
       "        vertical-align: middle;\n",
       "    }\n",
       "\n",
       "    .dataframe tbody tr th {\n",
       "        vertical-align: top;\n",
       "    }\n",
       "\n",
       "    .dataframe thead th {\n",
       "        text-align: right;\n",
       "    }\n",
       "</style>\n",
       "<table border=\"1\" class=\"dataframe\">\n",
       "  <thead>\n",
       "    <tr style=\"text-align: right;\">\n",
       "      <th></th>\n",
       "      <th>name</th>\n",
       "      <th>gender</th>\n",
       "      <th>height</th>\n",
       "    </tr>\n",
       "  </thead>\n",
       "  <tbody>\n",
       "    <tr>\n",
       "      <th>001</th>\n",
       "      <td>小陈</td>\n",
       "      <td>男</td>\n",
       "      <td>166</td>\n",
       "    </tr>\n",
       "    <tr>\n",
       "      <th>002</th>\n",
       "      <td>小李</td>\n",
       "      <td>女</td>\n",
       "      <td>143</td>\n",
       "    </tr>\n",
       "    <tr>\n",
       "      <th>003</th>\n",
       "      <td>小王</td>\n",
       "      <td>男</td>\n",
       "      <td>133</td>\n",
       "    </tr>\n",
       "    <tr>\n",
       "      <th>004</th>\n",
       "      <td>小张</td>\n",
       "      <td>男</td>\n",
       "      <td>178</td>\n",
       "    </tr>\n",
       "    <tr>\n",
       "      <th>005</th>\n",
       "      <td>小赵</td>\n",
       "      <td>女</td>\n",
       "      <td>174</td>\n",
       "    </tr>\n",
       "    <tr>\n",
       "      <th>006</th>\n",
       "      <td>小周</td>\n",
       "      <td>女</td>\n",
       "      <td>170</td>\n",
       "    </tr>\n",
       "  </tbody>\n",
       "</table>\n",
       "</div>"
      ],
      "text/plain": [
       "    name gender  height\n",
       "001   小陈      男     166\n",
       "002   小李      女     143\n",
       "003   小王      男     133\n",
       "004   小张      男     178\n",
       "005   小赵      女     174\n",
       "006   小周      女     170"
      ]
     },
     "execution_count": 6,
     "metadata": {},
     "output_type": "execute_result"
    }
   ],
   "source": [
    "students[\"height\"] = [166,143,133,178,174,170]\n",
    "students"
   ]
  },
  {
   "cell_type": "code",
   "execution_count": 10,
   "id": "a02641d6-95fb-49e4-8e03-b34a9d3a7625",
   "metadata": {},
   "outputs": [
    {
     "data": {
      "text/html": [
       "<div>\n",
       "<style scoped>\n",
       "    .dataframe tbody tr th:only-of-type {\n",
       "        vertical-align: middle;\n",
       "    }\n",
       "\n",
       "    .dataframe tbody tr th {\n",
       "        vertical-align: top;\n",
       "    }\n",
       "\n",
       "    .dataframe thead th {\n",
       "        text-align: right;\n",
       "    }\n",
       "</style>\n",
       "<table border=\"1\" class=\"dataframe\">\n",
       "  <thead>\n",
       "    <tr style=\"text-align: right;\">\n",
       "      <th></th>\n",
       "      <th>name</th>\n",
       "      <th>gender</th>\n",
       "      <th>height</th>\n",
       "    </tr>\n",
       "  </thead>\n",
       "  <tbody>\n",
       "    <tr>\n",
       "      <th>001</th>\n",
       "      <td>小陈</td>\n",
       "      <td>男</td>\n",
       "      <td>166.0</td>\n",
       "    </tr>\n",
       "    <tr>\n",
       "      <th>002</th>\n",
       "      <td>小李</td>\n",
       "      <td>女</td>\n",
       "      <td>143.0</td>\n",
       "    </tr>\n",
       "    <tr>\n",
       "      <th>003</th>\n",
       "      <td>小王</td>\n",
       "      <td>男</td>\n",
       "      <td>133.0</td>\n",
       "    </tr>\n",
       "    <tr>\n",
       "      <th>004</th>\n",
       "      <td>小张</td>\n",
       "      <td>男</td>\n",
       "      <td>178.0</td>\n",
       "    </tr>\n",
       "    <tr>\n",
       "      <th>005</th>\n",
       "      <td>赵一</td>\n",
       "      <td>女</td>\n",
       "      <td>162.0</td>\n",
       "    </tr>\n",
       "    <tr>\n",
       "      <th>006</th>\n",
       "      <td>小周</td>\n",
       "      <td>女</td>\n",
       "      <td>170.0</td>\n",
       "    </tr>\n",
       "  </tbody>\n",
       "</table>\n",
       "</div>"
      ],
      "text/plain": [
       "    name gender  height\n",
       "001   小陈      男   166.0\n",
       "002   小李      女   143.0\n",
       "003   小王      男   133.0\n",
       "004   小张      男   178.0\n",
       "005   赵一      女   162.0\n",
       "006   小周      女   170.0"
      ]
     },
     "execution_count": 10,
     "metadata": {},
     "output_type": "execute_result"
    }
   ],
   "source": [
    "students.loc[\"005\"] = pd.Series([\"赵一\",\"女\",162],index=[\"name\",\"gender\",\"height\"])\n",
    "students"
   ]
  },
  {
   "cell_type": "code",
   "execution_count": 11,
   "id": "f57458aa-cb0a-4ede-91c7-bab40bda3968",
   "metadata": {},
   "outputs": [
    {
     "data": {
      "text/html": [
       "<div>\n",
       "<style scoped>\n",
       "    .dataframe tbody tr th:only-of-type {\n",
       "        vertical-align: middle;\n",
       "    }\n",
       "\n",
       "    .dataframe tbody tr th {\n",
       "        vertical-align: top;\n",
       "    }\n",
       "\n",
       "    .dataframe thead th {\n",
       "        text-align: right;\n",
       "    }\n",
       "</style>\n",
       "<table border=\"1\" class=\"dataframe\">\n",
       "  <thead>\n",
       "    <tr style=\"text-align: right;\">\n",
       "      <th></th>\n",
       "      <th>name</th>\n",
       "      <th>gender</th>\n",
       "      <th>height</th>\n",
       "    </tr>\n",
       "  </thead>\n",
       "  <tbody>\n",
       "    <tr>\n",
       "      <th>001</th>\n",
       "      <td>小陈</td>\n",
       "      <td>男</td>\n",
       "      <td>166.0</td>\n",
       "    </tr>\n",
       "    <tr>\n",
       "      <th>002</th>\n",
       "      <td>小李</td>\n",
       "      <td>女</td>\n",
       "      <td>143.0</td>\n",
       "    </tr>\n",
       "    <tr>\n",
       "      <th>003</th>\n",
       "      <td>小王</td>\n",
       "      <td>男</td>\n",
       "      <td>133.0</td>\n",
       "    </tr>\n",
       "    <tr>\n",
       "      <th>004</th>\n",
       "      <td>小张</td>\n",
       "      <td>男</td>\n",
       "      <td>178.0</td>\n",
       "    </tr>\n",
       "    <tr>\n",
       "      <th>005</th>\n",
       "      <td>赵依</td>\n",
       "      <td>女</td>\n",
       "      <td>161.0</td>\n",
       "    </tr>\n",
       "    <tr>\n",
       "      <th>006</th>\n",
       "      <td>小周</td>\n",
       "      <td>女</td>\n",
       "      <td>170.0</td>\n",
       "    </tr>\n",
       "  </tbody>\n",
       "</table>\n",
       "</div>"
      ],
      "text/plain": [
       "    name gender  height\n",
       "001   小陈      男   166.0\n",
       "002   小李      女   143.0\n",
       "003   小王      男   133.0\n",
       "004   小张      男   178.0\n",
       "005   赵依      女   161.0\n",
       "006   小周      女   170.0"
      ]
     },
     "execution_count": 11,
     "metadata": {},
     "output_type": "execute_result"
    }
   ],
   "source": [
    "students.loc[\"005\"] = [\"赵依\",\"女\",161]\n",
    "students"
   ]
  },
  {
   "cell_type": "code",
   "execution_count": 14,
   "id": "134f32a0-2d02-4218-a9e8-2e3827bff03a",
   "metadata": {},
   "outputs": [
    {
     "data": {
      "text/html": [
       "<div>\n",
       "<style scoped>\n",
       "    .dataframe tbody tr th:only-of-type {\n",
       "        vertical-align: middle;\n",
       "    }\n",
       "\n",
       "    .dataframe tbody tr th {\n",
       "        vertical-align: top;\n",
       "    }\n",
       "\n",
       "    .dataframe thead th {\n",
       "        text-align: right;\n",
       "    }\n",
       "</style>\n",
       "<table border=\"1\" class=\"dataframe\">\n",
       "  <thead>\n",
       "    <tr style=\"text-align: right;\">\n",
       "      <th></th>\n",
       "      <th>name</th>\n",
       "      <th>gender</th>\n",
       "      <th>height</th>\n",
       "    </tr>\n",
       "  </thead>\n",
       "  <tbody>\n",
       "    <tr>\n",
       "      <th>001</th>\n",
       "      <td>小陈</td>\n",
       "      <td>男</td>\n",
       "      <td>166.0</td>\n",
       "    </tr>\n",
       "    <tr>\n",
       "      <th>002</th>\n",
       "      <td>小李</td>\n",
       "      <td>女</td>\n",
       "      <td>143.0</td>\n",
       "    </tr>\n",
       "    <tr>\n",
       "      <th>003</th>\n",
       "      <td>小王</td>\n",
       "      <td>男</td>\n",
       "      <td>133.0</td>\n",
       "    </tr>\n",
       "    <tr>\n",
       "      <th>004</th>\n",
       "      <td>小张</td>\n",
       "      <td>男</td>\n",
       "      <td>178.0</td>\n",
       "    </tr>\n",
       "    <tr>\n",
       "      <th>005</th>\n",
       "      <td>赵依</td>\n",
       "      <td>女</td>\n",
       "      <td>161.0</td>\n",
       "    </tr>\n",
       "    <tr>\n",
       "      <th>006</th>\n",
       "      <td>小周</td>\n",
       "      <td>女</td>\n",
       "      <td>170.0</td>\n",
       "    </tr>\n",
       "    <tr>\n",
       "      <th>007</th>\n",
       "      <td>王尔</td>\n",
       "      <td>男</td>\n",
       "      <td>183.0</td>\n",
       "    </tr>\n",
       "  </tbody>\n",
       "</table>\n",
       "</div>"
      ],
      "text/plain": [
       "    name gender  height\n",
       "001   小陈      男   166.0\n",
       "002   小李      女   143.0\n",
       "003   小王      男   133.0\n",
       "004   小张      男   178.0\n",
       "005   赵依      女   161.0\n",
       "006   小周      女   170.0\n",
       "007   王尔      男   183.0"
      ]
     },
     "execution_count": 14,
     "metadata": {},
     "output_type": "execute_result"
    }
   ],
   "source": [
    "# 只能用loc\n",
    "students.loc[\"007\"] = [\"王尔\",\"男\",183]\n",
    "students"
   ]
  },
  {
   "cell_type": "code",
   "execution_count": 19,
   "id": "5a3f4ac2-fccb-4386-b5ce-f0aebbad9430",
   "metadata": {},
   "outputs": [
    {
     "data": {
      "text/html": [
       "<div>\n",
       "<style scoped>\n",
       "    .dataframe tbody tr th:only-of-type {\n",
       "        vertical-align: middle;\n",
       "    }\n",
       "\n",
       "    .dataframe tbody tr th {\n",
       "        vertical-align: top;\n",
       "    }\n",
       "\n",
       "    .dataframe thead th {\n",
       "        text-align: right;\n",
       "    }\n",
       "</style>\n",
       "<table border=\"1\" class=\"dataframe\">\n",
       "  <thead>\n",
       "    <tr style=\"text-align: right;\">\n",
       "      <th></th>\n",
       "      <th>name</th>\n",
       "      <th>gender</th>\n",
       "      <th>height</th>\n",
       "    </tr>\n",
       "  </thead>\n",
       "  <tbody>\n",
       "    <tr>\n",
       "      <th>001</th>\n",
       "      <td>小陈</td>\n",
       "      <td>男</td>\n",
       "      <td>166.0</td>\n",
       "    </tr>\n",
       "    <tr>\n",
       "      <th>002</th>\n",
       "      <td>小李</td>\n",
       "      <td>女</td>\n",
       "      <td>143.0</td>\n",
       "    </tr>\n",
       "    <tr>\n",
       "      <th>003</th>\n",
       "      <td>小王</td>\n",
       "      <td>男</td>\n",
       "      <td>133.0</td>\n",
       "    </tr>\n",
       "    <tr>\n",
       "      <th>004</th>\n",
       "      <td>小张</td>\n",
       "      <td>男</td>\n",
       "      <td>178.0</td>\n",
       "    </tr>\n",
       "    <tr>\n",
       "      <th>005</th>\n",
       "      <td>赵依</td>\n",
       "      <td>女</td>\n",
       "      <td>161.0</td>\n",
       "    </tr>\n",
       "    <tr>\n",
       "      <th>006</th>\n",
       "      <td>小周</td>\n",
       "      <td>女</td>\n",
       "      <td>170.0</td>\n",
       "    </tr>\n",
       "  </tbody>\n",
       "</table>\n",
       "</div>"
      ],
      "text/plain": [
       "    name gender  height\n",
       "001   小陈      男   166.0\n",
       "002   小李      女   143.0\n",
       "003   小王      男   133.0\n",
       "004   小张      男   178.0\n",
       "005   赵依      女   161.0\n",
       "006   小周      女   170.0"
      ]
     },
     "execution_count": 19,
     "metadata": {},
     "output_type": "execute_result"
    }
   ],
   "source": [
    "students.drop(\"007\")"
   ]
  },
  {
   "cell_type": "code",
   "execution_count": 20,
   "id": "19d6471c-69c6-476d-99ba-9e037a83079a",
   "metadata": {},
   "outputs": [
    {
     "data": {
      "text/html": [
       "<div>\n",
       "<style scoped>\n",
       "    .dataframe tbody tr th:only-of-type {\n",
       "        vertical-align: middle;\n",
       "    }\n",
       "\n",
       "    .dataframe tbody tr th {\n",
       "        vertical-align: top;\n",
       "    }\n",
       "\n",
       "    .dataframe thead th {\n",
       "        text-align: right;\n",
       "    }\n",
       "</style>\n",
       "<table border=\"1\" class=\"dataframe\">\n",
       "  <thead>\n",
       "    <tr style=\"text-align: right;\">\n",
       "      <th></th>\n",
       "      <th>name</th>\n",
       "      <th>gender</th>\n",
       "      <th>height</th>\n",
       "    </tr>\n",
       "  </thead>\n",
       "  <tbody>\n",
       "    <tr>\n",
       "      <th>001</th>\n",
       "      <td>小陈</td>\n",
       "      <td>男</td>\n",
       "      <td>166.0</td>\n",
       "    </tr>\n",
       "    <tr>\n",
       "      <th>002</th>\n",
       "      <td>小李</td>\n",
       "      <td>女</td>\n",
       "      <td>143.0</td>\n",
       "    </tr>\n",
       "    <tr>\n",
       "      <th>004</th>\n",
       "      <td>小张</td>\n",
       "      <td>男</td>\n",
       "      <td>178.0</td>\n",
       "    </tr>\n",
       "    <tr>\n",
       "      <th>005</th>\n",
       "      <td>赵依</td>\n",
       "      <td>女</td>\n",
       "      <td>161.0</td>\n",
       "    </tr>\n",
       "    <tr>\n",
       "      <th>006</th>\n",
       "      <td>小周</td>\n",
       "      <td>女</td>\n",
       "      <td>170.0</td>\n",
       "    </tr>\n",
       "  </tbody>\n",
       "</table>\n",
       "</div>"
      ],
      "text/plain": [
       "    name gender  height\n",
       "001   小陈      男   166.0\n",
       "002   小李      女   143.0\n",
       "004   小张      男   178.0\n",
       "005   赵依      女   161.0\n",
       "006   小周      女   170.0"
      ]
     },
     "execution_count": 20,
     "metadata": {},
     "output_type": "execute_result"
    }
   ],
   "source": [
    "students.drop([\"007\",\"003\"])"
   ]
  },
  {
   "cell_type": "code",
   "execution_count": 27,
   "id": "8512af72-8ef7-4820-99f2-346bc7689d3d",
   "metadata": {},
   "outputs": [
    {
     "data": {
      "text/html": [
       "<div>\n",
       "<style scoped>\n",
       "    .dataframe tbody tr th:only-of-type {\n",
       "        vertical-align: middle;\n",
       "    }\n",
       "\n",
       "    .dataframe tbody tr th {\n",
       "        vertical-align: top;\n",
       "    }\n",
       "\n",
       "    .dataframe thead th {\n",
       "        text-align: right;\n",
       "    }\n",
       "</style>\n",
       "<table border=\"1\" class=\"dataframe\">\n",
       "  <thead>\n",
       "    <tr style=\"text-align: right;\">\n",
       "      <th></th>\n",
       "      <th>name</th>\n",
       "      <th>gender</th>\n",
       "    </tr>\n",
       "  </thead>\n",
       "  <tbody>\n",
       "    <tr>\n",
       "      <th>001</th>\n",
       "      <td>小陈</td>\n",
       "      <td>男</td>\n",
       "    </tr>\n",
       "    <tr>\n",
       "      <th>002</th>\n",
       "      <td>小李</td>\n",
       "      <td>女</td>\n",
       "    </tr>\n",
       "    <tr>\n",
       "      <th>003</th>\n",
       "      <td>小王</td>\n",
       "      <td>男</td>\n",
       "    </tr>\n",
       "    <tr>\n",
       "      <th>004</th>\n",
       "      <td>小张</td>\n",
       "      <td>男</td>\n",
       "    </tr>\n",
       "    <tr>\n",
       "      <th>005</th>\n",
       "      <td>赵依</td>\n",
       "      <td>女</td>\n",
       "    </tr>\n",
       "    <tr>\n",
       "      <th>006</th>\n",
       "      <td>小周</td>\n",
       "      <td>女</td>\n",
       "    </tr>\n",
       "    <tr>\n",
       "      <th>007</th>\n",
       "      <td>王尔</td>\n",
       "      <td>男</td>\n",
       "    </tr>\n",
       "  </tbody>\n",
       "</table>\n",
       "</div>"
      ],
      "text/plain": [
       "    name gender\n",
       "001   小陈      男\n",
       "002   小李      女\n",
       "003   小王      男\n",
       "004   小张      男\n",
       "005   赵依      女\n",
       "006   小周      女\n",
       "007   王尔      男"
      ]
     },
     "execution_count": 27,
     "metadata": {},
     "output_type": "execute_result"
    }
   ],
   "source": [
    "students.drop(\"height\",axis=1)"
   ]
  },
  {
   "cell_type": "code",
   "execution_count": 29,
   "id": "c5568fec-ebe0-4d45-9699-84d1c96d6a4b",
   "metadata": {},
   "outputs": [
    {
     "data": {
      "text/html": [
       "<div>\n",
       "<style scoped>\n",
       "    .dataframe tbody tr th:only-of-type {\n",
       "        vertical-align: middle;\n",
       "    }\n",
       "\n",
       "    .dataframe tbody tr th {\n",
       "        vertical-align: top;\n",
       "    }\n",
       "\n",
       "    .dataframe thead th {\n",
       "        text-align: right;\n",
       "    }\n",
       "</style>\n",
       "<table border=\"1\" class=\"dataframe\">\n",
       "  <thead>\n",
       "    <tr style=\"text-align: right;\">\n",
       "      <th></th>\n",
       "      <th>name</th>\n",
       "      <th>gender</th>\n",
       "      <th>height</th>\n",
       "    </tr>\n",
       "  </thead>\n",
       "  <tbody>\n",
       "    <tr>\n",
       "      <th>001</th>\n",
       "      <td>小陈</td>\n",
       "      <td>男</td>\n",
       "      <td>166.0</td>\n",
       "    </tr>\n",
       "    <tr>\n",
       "      <th>003</th>\n",
       "      <td>小王</td>\n",
       "      <td>男</td>\n",
       "      <td>133.0</td>\n",
       "    </tr>\n",
       "    <tr>\n",
       "      <th>004</th>\n",
       "      <td>小张</td>\n",
       "      <td>男</td>\n",
       "      <td>178.0</td>\n",
       "    </tr>\n",
       "    <tr>\n",
       "      <th>005</th>\n",
       "      <td>赵依</td>\n",
       "      <td>女</td>\n",
       "      <td>161.0</td>\n",
       "    </tr>\n",
       "    <tr>\n",
       "      <th>006</th>\n",
       "      <td>小周</td>\n",
       "      <td>女</td>\n",
       "      <td>170.0</td>\n",
       "    </tr>\n",
       "    <tr>\n",
       "      <th>007</th>\n",
       "      <td>王尔</td>\n",
       "      <td>男</td>\n",
       "      <td>183.0</td>\n",
       "    </tr>\n",
       "  </tbody>\n",
       "</table>\n",
       "</div>"
      ],
      "text/plain": [
       "    name gender  height\n",
       "001   小陈      男   166.0\n",
       "003   小王      男   133.0\n",
       "004   小张      男   178.0\n",
       "005   赵依      女   161.0\n",
       "006   小周      女   170.0\n",
       "007   王尔      男   183.0"
      ]
     },
     "execution_count": 29,
     "metadata": {},
     "output_type": "execute_result"
    }
   ],
   "source": [
    "students.drop(\"002\",axis=0)"
   ]
  },
  {
   "cell_type": "code",
   "execution_count": 30,
   "id": "2c5bf41a-07e1-418d-91f6-de81aa28c4b1",
   "metadata": {},
   "outputs": [
    {
     "data": {
      "text/html": [
       "<div>\n",
       "<style scoped>\n",
       "    .dataframe tbody tr th:only-of-type {\n",
       "        vertical-align: middle;\n",
       "    }\n",
       "\n",
       "    .dataframe tbody tr th {\n",
       "        vertical-align: top;\n",
       "    }\n",
       "\n",
       "    .dataframe thead th {\n",
       "        text-align: right;\n",
       "    }\n",
       "</style>\n",
       "<table border=\"1\" class=\"dataframe\">\n",
       "  <thead>\n",
       "    <tr style=\"text-align: right;\">\n",
       "      <th></th>\n",
       "      <th>gender</th>\n",
       "    </tr>\n",
       "  </thead>\n",
       "  <tbody>\n",
       "    <tr>\n",
       "      <th>001</th>\n",
       "      <td>男</td>\n",
       "    </tr>\n",
       "    <tr>\n",
       "      <th>002</th>\n",
       "      <td>女</td>\n",
       "    </tr>\n",
       "    <tr>\n",
       "      <th>003</th>\n",
       "      <td>男</td>\n",
       "    </tr>\n",
       "    <tr>\n",
       "      <th>004</th>\n",
       "      <td>男</td>\n",
       "    </tr>\n",
       "    <tr>\n",
       "      <th>005</th>\n",
       "      <td>女</td>\n",
       "    </tr>\n",
       "    <tr>\n",
       "      <th>006</th>\n",
       "      <td>女</td>\n",
       "    </tr>\n",
       "    <tr>\n",
       "      <th>007</th>\n",
       "      <td>男</td>\n",
       "    </tr>\n",
       "  </tbody>\n",
       "</table>\n",
       "</div>"
      ],
      "text/plain": [
       "    gender\n",
       "001      男\n",
       "002      女\n",
       "003      男\n",
       "004      男\n",
       "005      女\n",
       "006      女\n",
       "007      男"
      ]
     },
     "execution_count": 30,
     "metadata": {},
     "output_type": "execute_result"
    }
   ],
   "source": [
    "students.drop([\"height\",\"name\"],axis=1)"
   ]
  },
  {
   "cell_type": "markdown",
   "id": "42bb483b-3a17-46ef-a16e-9e37e5245d8f",
   "metadata": {},
   "source": [
    "## 练习2"
   ]
  },
  {
   "cell_type": "code",
   "execution_count": 32,
   "id": "869e2338-47a3-40d2-80ed-39d0d28854b5",
   "metadata": {},
   "outputs": [
    {
     "name": "stdout",
     "output_type": "stream",
     "text": [
      "    001 002 003 004 005 006\n",
      "姓名   小陈  小李  小王  小张  小赵  小周\n",
      "考试1  85  91  86  79  96  81\n",
      "考试2  95  92  81  89  91  89\n",
      "考试3  92  94  89  95  91  92\n",
      "     姓名 考试1 考试2 考试3\n",
      "001  小陈  85  95  92\n",
      "002  小李  91  92  94\n",
      "003  小王  86  81  89\n",
      "004  小张  79  89  95\n",
      "005  小赵  96  91  91\n",
      "006  小周  81  89  92\n",
      "     姓名 考试1 考试2 考试3  考试4\n",
      "001  小陈  85  95  92   72\n",
      "002  小李  91  92  94   69\n",
      "003  小王  86  81  89   79\n",
      "004  小张  79  89  95   83\n",
      "005  小赵  96  91  91   82\n",
      "006  小周  81  89  92   76\n",
      "     姓名 考试1 考试2 考试3  考试4\n",
      "001  小陈  85  95  92   72\n",
      "002  小李  91  92  94   69\n",
      "003  小王  86  81  89   79\n",
      "004  小张  79  89  95   83\n",
      "005  小赵  96  91  91   82\n",
      "006  小周  81  89  92   76\n",
      "007  小杨  79  82  81   69\n",
      "     姓名 考试1 考试2 考试3  考试4\n",
      "001  小陈  85  95  92   72\n",
      "002  小李  91  92  94   69\n",
      "003  小王  86  81  89   79\n",
      "004  小张  79  89  95   83\n",
      "005  小赵  96  91  91   82\n",
      "     姓名 考试1 考试3\n",
      "001  小陈  85  92\n",
      "002  小李  91  94\n",
      "003  小王  86  89\n",
      "004  小张  79  95\n",
      "005  小赵  96  91\n",
      "006  小周  81  92\n",
      "007  小杨  79  81\n",
      "Empty DataFrame\n",
      "Columns: [姓名, 考试1, 考试2, 考试3, 考试4]\n",
      "Index: []\n",
      "     姓名 考试1 考试2 考试3  考试4\n",
      "001  小陈  85  95  92   82\n",
      "002  小李  91  92  94   79\n",
      "003  小王  86  81  89   89\n",
      "004  小张  79  89  95   93\n",
      "005  小赵  96  91  91   92\n",
      "006  小周  81  89  92   86\n",
      "007  小杨  79  82  81   79\n"
     ]
    }
   ],
   "source": [
    "import pandas as pd\n",
    "\n",
    "students_data = {\n",
    "    \"001\": {\"姓名\": \"小陈\", \"考试1\": 85, \"考试2\": 95, \"考试3\": 92},\n",
    "    \"002\": {\"姓名\": \"小李\", \"考试1\": 91, \"考试2\": 92, \"考试3\": 94},\n",
    "    \"003\": {\"姓名\": \"小王\", \"考试1\": 86, \"考试2\": 81, \"考试3\": 89},\n",
    "    \"004\": {\"姓名\": \"小张\", \"考试1\": 79, \"考试2\": 89, \"考试3\": 95},\n",
    "    \"005\": {\"姓名\": \"小赵\", \"考试1\": 96, \"考试2\": 91, \"考试3\": 91},\n",
    "    \"006\": {\"姓名\": \"小周\", \"考试1\": 81, \"考试2\": 89, \"考试3\": 92}\n",
    "}\n",
    "\n",
    "students = pd.DataFrame(students_data)\n",
    "print(students)\n",
    "print(students.T)\n",
    "\n",
    "students = students.T\n",
    "# students[\"考试4\"] = [72, 69, 79, 83, 82, 76]\n",
    "students[\"考试4\"] = pd.Series([72, 69, 79, 83, 82, 76], index=students.index)\n",
    "print(students)\n",
    "\n",
    "students.loc[\"007\"] = [\"小杨\", 79, 82, 81, 69]\n",
    "print(students)\n",
    "\n",
    "print(students.drop([\"006\",\"007\"],axis=0))\n",
    "print(students.drop([\"考试2\",\"考试4\"],axis=1))\n",
    "\n",
    "bonus = pd.Series({\"考试1\": 2, \"考试2\": 3, \"考试3\": 2, \"考试4\": 5})\n",
    "# print(bonus + students[[\"考试1\",\"考试2\",\"考试3\",\"考试4\"]])\n",
    "print(bonus + students[\"考试1\":\"考试4\"])\n",
    "\n",
    "students[\"考试4\"] = students[\"考试4\"] + 10\n",
    "print(students)"
   ]
  },
  {
   "cell_type": "code",
   "execution_count": 33,
   "id": "75249ca7-0bd0-4292-888e-20e283bd8988",
   "metadata": {},
   "outputs": [
    {
     "data": {
      "text/html": [
       "<div>\n",
       "<style scoped>\n",
       "    .dataframe tbody tr th:only-of-type {\n",
       "        vertical-align: middle;\n",
       "    }\n",
       "\n",
       "    .dataframe tbody tr th {\n",
       "        vertical-align: top;\n",
       "    }\n",
       "\n",
       "    .dataframe thead th {\n",
       "        text-align: right;\n",
       "    }\n",
       "</style>\n",
       "<table border=\"1\" class=\"dataframe\">\n",
       "  <thead>\n",
       "    <tr style=\"text-align: right;\">\n",
       "      <th></th>\n",
       "      <th>姓名</th>\n",
       "      <th>考试1</th>\n",
       "      <th>考试2</th>\n",
       "      <th>考试3</th>\n",
       "      <th>考试4</th>\n",
       "    </tr>\n",
       "  </thead>\n",
       "  <tbody>\n",
       "    <tr>\n",
       "      <th>001</th>\n",
       "      <td>小陈</td>\n",
       "      <td>85</td>\n",
       "      <td>95</td>\n",
       "      <td>92</td>\n",
       "      <td>82</td>\n",
       "    </tr>\n",
       "    <tr>\n",
       "      <th>002</th>\n",
       "      <td>小李</td>\n",
       "      <td>91</td>\n",
       "      <td>92</td>\n",
       "      <td>94</td>\n",
       "      <td>79</td>\n",
       "    </tr>\n",
       "    <tr>\n",
       "      <th>003</th>\n",
       "      <td>小王</td>\n",
       "      <td>86</td>\n",
       "      <td>81</td>\n",
       "      <td>89</td>\n",
       "      <td>89</td>\n",
       "    </tr>\n",
       "    <tr>\n",
       "      <th>004</th>\n",
       "      <td>小张</td>\n",
       "      <td>79</td>\n",
       "      <td>89</td>\n",
       "      <td>95</td>\n",
       "      <td>93</td>\n",
       "    </tr>\n",
       "    <tr>\n",
       "      <th>005</th>\n",
       "      <td>小赵</td>\n",
       "      <td>96</td>\n",
       "      <td>91</td>\n",
       "      <td>91</td>\n",
       "      <td>92</td>\n",
       "    </tr>\n",
       "    <tr>\n",
       "      <th>006</th>\n",
       "      <td>小周</td>\n",
       "      <td>81</td>\n",
       "      <td>89</td>\n",
       "      <td>92</td>\n",
       "      <td>86</td>\n",
       "    </tr>\n",
       "    <tr>\n",
       "      <th>007</th>\n",
       "      <td>小杨</td>\n",
       "      <td>79</td>\n",
       "      <td>82</td>\n",
       "      <td>81</td>\n",
       "      <td>79</td>\n",
       "    </tr>\n",
       "  </tbody>\n",
       "</table>\n",
       "</div>"
      ],
      "text/plain": [
       "     姓名 考试1 考试2 考试3  考试4\n",
       "001  小陈  85  95  92   82\n",
       "002  小李  91  92  94   79\n",
       "003  小王  86  81  89   89\n",
       "004  小张  79  89  95   93\n",
       "005  小赵  96  91  91   92\n",
       "006  小周  81  89  92   86\n",
       "007  小杨  79  82  81   79"
      ]
     },
     "execution_count": 33,
     "metadata": {},
     "output_type": "execute_result"
    }
   ],
   "source": [
    "students"
   ]
  },
  {
   "cell_type": "markdown",
   "id": "42e59520-ded2-4bc8-8fb2-ba41d3760a2c",
   "metadata": {},
   "source": [
    "## 丝滑操作3"
   ]
  },
  {
   "cell_type": "code",
   "execution_count": 45,
   "id": "bc19db74-3bf2-45fb-b0d7-e28531707573",
   "metadata": {},
   "outputs": [
    {
     "data": {
      "text/html": [
       "<div>\n",
       "<style scoped>\n",
       "    .dataframe tbody tr th:only-of-type {\n",
       "        vertical-align: middle;\n",
       "    }\n",
       "\n",
       "    .dataframe tbody tr th {\n",
       "        vertical-align: top;\n",
       "    }\n",
       "\n",
       "    .dataframe thead th {\n",
       "        text-align: right;\n",
       "    }\n",
       "</style>\n",
       "<table border=\"1\" class=\"dataframe\">\n",
       "  <thead>\n",
       "    <tr style=\"text-align: right;\">\n",
       "      <th></th>\n",
       "      <th>姓名</th>\n",
       "      <th>考试1</th>\n",
       "      <th>考试2</th>\n",
       "      <th>考试3</th>\n",
       "    </tr>\n",
       "  </thead>\n",
       "  <tbody>\n",
       "    <tr>\n",
       "      <th>001</th>\n",
       "      <td>小陈</td>\n",
       "      <td>85</td>\n",
       "      <td>95</td>\n",
       "      <td>92</td>\n",
       "    </tr>\n",
       "    <tr>\n",
       "      <th>002</th>\n",
       "      <td>小李</td>\n",
       "      <td>91</td>\n",
       "      <td>92</td>\n",
       "      <td>94</td>\n",
       "    </tr>\n",
       "    <tr>\n",
       "      <th>003</th>\n",
       "      <td>小王</td>\n",
       "      <td>86</td>\n",
       "      <td>81</td>\n",
       "      <td>89</td>\n",
       "    </tr>\n",
       "    <tr>\n",
       "      <th>004</th>\n",
       "      <td>小张</td>\n",
       "      <td>79</td>\n",
       "      <td>89</td>\n",
       "      <td>95</td>\n",
       "    </tr>\n",
       "    <tr>\n",
       "      <th>005</th>\n",
       "      <td>小赵</td>\n",
       "      <td>96</td>\n",
       "      <td>91</td>\n",
       "      <td>91</td>\n",
       "    </tr>\n",
       "    <tr>\n",
       "      <th>006</th>\n",
       "      <td>小周</td>\n",
       "      <td>81</td>\n",
       "      <td>89</td>\n",
       "      <td>92</td>\n",
       "    </tr>\n",
       "  </tbody>\n",
       "</table>\n",
       "</div>"
      ],
      "text/plain": [
       "     姓名 考试1 考试2 考试3\n",
       "001  小陈  85  95  92\n",
       "002  小李  91  92  94\n",
       "003  小王  86  81  89\n",
       "004  小张  79  89  95\n",
       "005  小赵  96  91  91\n",
       "006  小周  81  89  92"
      ]
     },
     "execution_count": 45,
     "metadata": {},
     "output_type": "execute_result"
    }
   ],
   "source": [
    "students_data = {\n",
    "    \"001\": {\"姓名\": \"小陈\", \"考试1\": 85, \"考试2\": 95, \"考试3\": 92},\n",
    "    \"002\": {\"姓名\": \"小李\", \"考试1\": 91, \"考试2\": 92, \"考试3\": 94},\n",
    "    \"003\": {\"姓名\": \"小王\", \"考试1\": 86, \"考试2\": 81, \"考试3\": 89},\n",
    "    \"004\": {\"姓名\": \"小张\", \"考试1\": 79, \"考试2\": 89, \"考试3\": 95},\n",
    "    \"005\": {\"姓名\": \"小赵\", \"考试1\": 96, \"考试2\": 91, \"考试3\": 91},\n",
    "    \"006\": {\"姓名\": \"小周\", \"考试1\": 81, \"考试2\": 89, \"考试3\": 92}\n",
    "}\n",
    "students = pd.DataFrame(students_data)\n",
    "students = students.T\n",
    "students"
   ]
  },
  {
   "cell_type": "code",
   "execution_count": 58,
   "id": "67fcd0d9-f533-4f46-ba8b-002061e8b032",
   "metadata": {},
   "outputs": [
    {
     "data": {
      "text/html": [
       "<div>\n",
       "<style scoped>\n",
       "    .dataframe tbody tr th:only-of-type {\n",
       "        vertical-align: middle;\n",
       "    }\n",
       "\n",
       "    .dataframe tbody tr th {\n",
       "        vertical-align: top;\n",
       "    }\n",
       "\n",
       "    .dataframe thead th {\n",
       "        text-align: right;\n",
       "    }\n",
       "</style>\n",
       "<table border=\"1\" class=\"dataframe\">\n",
       "  <thead>\n",
       "    <tr style=\"text-align: right;\">\n",
       "      <th></th>\n",
       "      <th>姓名</th>\n",
       "      <th>平均分</th>\n",
       "    </tr>\n",
       "  </thead>\n",
       "  <tbody>\n",
       "    <tr>\n",
       "      <th>001</th>\n",
       "      <td>小陈</td>\n",
       "      <td>90.666667</td>\n",
       "    </tr>\n",
       "    <tr>\n",
       "      <th>002</th>\n",
       "      <td>小李</td>\n",
       "      <td>92.333333</td>\n",
       "    </tr>\n",
       "    <tr>\n",
       "      <th>003</th>\n",
       "      <td>小王</td>\n",
       "      <td>85.333333</td>\n",
       "    </tr>\n",
       "    <tr>\n",
       "      <th>004</th>\n",
       "      <td>小张</td>\n",
       "      <td>87.666667</td>\n",
       "    </tr>\n",
       "    <tr>\n",
       "      <th>005</th>\n",
       "      <td>小赵</td>\n",
       "      <td>92.666667</td>\n",
       "    </tr>\n",
       "    <tr>\n",
       "      <th>006</th>\n",
       "      <td>小周</td>\n",
       "      <td>87.333333</td>\n",
       "    </tr>\n",
       "  </tbody>\n",
       "</table>\n",
       "</div>"
      ],
      "text/plain": [
       "     姓名        平均分\n",
       "001  小陈  90.666667\n",
       "002  小李  92.333333\n",
       "003  小王  85.333333\n",
       "004  小张  87.666667\n",
       "005  小赵  92.666667\n",
       "006  小周  87.333333"
      ]
     },
     "execution_count": 58,
     "metadata": {},
     "output_type": "execute_result"
    }
   ],
   "source": [
    "average = students.loc[:,\"考试1\":\"考试3\"].mean(axis=1)\n",
    "name = students[\"姓名\"]\n",
    "students_average = pd.DataFrame({\"姓名\":name,\"平均分\":average})\n",
    "students_average"
   ]
  },
  {
   "cell_type": "code",
   "execution_count": 64,
   "id": "0e9b1e9e-0932-4dfc-bd42-1cfe6050b354",
   "metadata": {},
   "outputs": [
    {
     "data": {
      "text/plain": [
       "考试1    91\n",
       "考试2    92\n",
       "考试3    94\n",
       "dtype: int64"
      ]
     },
     "execution_count": 64,
     "metadata": {},
     "output_type": "execute_result"
    }
   ],
   "source": [
    "students.loc[:,\"考试1\":\"考试3\"].apply(lambda x:np.sort(x)[-2])"
   ]
  },
  {
   "cell_type": "code",
   "execution_count": 65,
   "id": "85b043a3-2f83-42fe-b549-1a6322d6e17a",
   "metadata": {},
   "outputs": [
    {
     "data": {
      "text/html": [
       "<div>\n",
       "<style scoped>\n",
       "    .dataframe tbody tr th:only-of-type {\n",
       "        vertical-align: middle;\n",
       "    }\n",
       "\n",
       "    .dataframe tbody tr th {\n",
       "        vertical-align: top;\n",
       "    }\n",
       "\n",
       "    .dataframe thead th {\n",
       "        text-align: right;\n",
       "    }\n",
       "</style>\n",
       "<table border=\"1\" class=\"dataframe\">\n",
       "  <thead>\n",
       "    <tr style=\"text-align: right;\">\n",
       "      <th></th>\n",
       "      <th>姓名</th>\n",
       "      <th>考试1</th>\n",
       "      <th>考试2</th>\n",
       "      <th>考试3</th>\n",
       "    </tr>\n",
       "  </thead>\n",
       "  <tbody>\n",
       "    <tr>\n",
       "      <th>001</th>\n",
       "      <td>小陈</td>\n",
       "      <td>85</td>\n",
       "      <td>95</td>\n",
       "      <td>92</td>\n",
       "    </tr>\n",
       "    <tr>\n",
       "      <th>002</th>\n",
       "      <td>小李</td>\n",
       "      <td>91</td>\n",
       "      <td>92</td>\n",
       "      <td>94</td>\n",
       "    </tr>\n",
       "    <tr>\n",
       "      <th>003</th>\n",
       "      <td>小王</td>\n",
       "      <td>86</td>\n",
       "      <td>81</td>\n",
       "      <td>89</td>\n",
       "    </tr>\n",
       "    <tr>\n",
       "      <th>004</th>\n",
       "      <td>小张</td>\n",
       "      <td>79</td>\n",
       "      <td>89</td>\n",
       "      <td>95</td>\n",
       "    </tr>\n",
       "    <tr>\n",
       "      <th>005</th>\n",
       "      <td>小赵</td>\n",
       "      <td>96</td>\n",
       "      <td>91</td>\n",
       "      <td>91</td>\n",
       "    </tr>\n",
       "    <tr>\n",
       "      <th>006</th>\n",
       "      <td>小周</td>\n",
       "      <td>81</td>\n",
       "      <td>89</td>\n",
       "      <td>92</td>\n",
       "    </tr>\n",
       "  </tbody>\n",
       "</table>\n",
       "</div>"
      ],
      "text/plain": [
       "     姓名 考试1 考试2 考试3\n",
       "001  小陈  85  95  92\n",
       "002  小李  91  92  94\n",
       "003  小王  86  81  89\n",
       "004  小张  79  89  95\n",
       "005  小赵  96  91  91\n",
       "006  小周  81  89  92"
      ]
     },
     "execution_count": 65,
     "metadata": {},
     "output_type": "execute_result"
    }
   ],
   "source": [
    "students"
   ]
  },
  {
   "cell_type": "code",
   "execution_count": 66,
   "id": "28b91f05-be13-460d-b055-12e160f4b712",
   "metadata": {},
   "outputs": [],
   "source": [
    "def get_grade(score):\n",
    "    if score >= 95:\n",
    "        return \"A+\"\n",
    "    elif score >= 90:\n",
    "        return \"A\"\n",
    "    elif score >= 85:\n",
    "        return \"B+\"\n",
    "    elif score >= 80:\n",
    "        return \"B\"\n",
    "    elif score >= 75:\n",
    "        return \"C+\"\n",
    "    else:\n",
    "        return \"C\""
   ]
  },
  {
   "cell_type": "code",
   "execution_count": 69,
   "id": "f7060e23-bc6c-444b-b52b-9c609a150b04",
   "metadata": {},
   "outputs": [
    {
     "data": {
      "text/html": [
       "<div>\n",
       "<style scoped>\n",
       "    .dataframe tbody tr th:only-of-type {\n",
       "        vertical-align: middle;\n",
       "    }\n",
       "\n",
       "    .dataframe tbody tr th {\n",
       "        vertical-align: top;\n",
       "    }\n",
       "\n",
       "    .dataframe thead th {\n",
       "        text-align: right;\n",
       "    }\n",
       "</style>\n",
       "<table border=\"1\" class=\"dataframe\">\n",
       "  <thead>\n",
       "    <tr style=\"text-align: right;\">\n",
       "      <th></th>\n",
       "      <th>考试1</th>\n",
       "      <th>考试2</th>\n",
       "      <th>考试3</th>\n",
       "    </tr>\n",
       "  </thead>\n",
       "  <tbody>\n",
       "    <tr>\n",
       "      <th>001</th>\n",
       "      <td>B+</td>\n",
       "      <td>A+</td>\n",
       "      <td>A</td>\n",
       "    </tr>\n",
       "    <tr>\n",
       "      <th>002</th>\n",
       "      <td>A</td>\n",
       "      <td>A</td>\n",
       "      <td>A</td>\n",
       "    </tr>\n",
       "    <tr>\n",
       "      <th>003</th>\n",
       "      <td>B+</td>\n",
       "      <td>B</td>\n",
       "      <td>B+</td>\n",
       "    </tr>\n",
       "    <tr>\n",
       "      <th>004</th>\n",
       "      <td>C+</td>\n",
       "      <td>B+</td>\n",
       "      <td>A+</td>\n",
       "    </tr>\n",
       "    <tr>\n",
       "      <th>005</th>\n",
       "      <td>A+</td>\n",
       "      <td>A</td>\n",
       "      <td>A</td>\n",
       "    </tr>\n",
       "    <tr>\n",
       "      <th>006</th>\n",
       "      <td>B</td>\n",
       "      <td>B+</td>\n",
       "      <td>A</td>\n",
       "    </tr>\n",
       "  </tbody>\n",
       "</table>\n",
       "</div>"
      ],
      "text/plain": [
       "    考试1 考试2 考试3\n",
       "001  B+  A+   A\n",
       "002   A   A   A\n",
       "003  B+   B  B+\n",
       "004  C+  B+  A+\n",
       "005  A+   A   A\n",
       "006   B  B+   A"
      ]
     },
     "execution_count": 69,
     "metadata": {},
     "output_type": "execute_result"
    }
   ],
   "source": [
    "students.loc[:,\"考试1\":\"考试3\"].map(get_grade)"
   ]
  },
  {
   "cell_type": "code",
   "execution_count": 73,
   "id": "c9740514-ed19-413e-a8df-1be439104bb4",
   "metadata": {},
   "outputs": [
    {
     "data": {
      "text/html": [
       "<div>\n",
       "<style scoped>\n",
       "    .dataframe tbody tr th:only-of-type {\n",
       "        vertical-align: middle;\n",
       "    }\n",
       "\n",
       "    .dataframe tbody tr th {\n",
       "        vertical-align: top;\n",
       "    }\n",
       "\n",
       "    .dataframe thead th {\n",
       "        text-align: right;\n",
       "    }\n",
       "</style>\n",
       "<table border=\"1\" class=\"dataframe\">\n",
       "  <thead>\n",
       "    <tr style=\"text-align: right;\">\n",
       "      <th></th>\n",
       "      <th>姓名</th>\n",
       "      <th>考试1</th>\n",
       "      <th>考试2</th>\n",
       "      <th>考试3</th>\n",
       "    </tr>\n",
       "  </thead>\n",
       "  <tbody>\n",
       "    <tr>\n",
       "      <th>count</th>\n",
       "      <td>6</td>\n",
       "      <td>6</td>\n",
       "      <td>6</td>\n",
       "      <td>6</td>\n",
       "    </tr>\n",
       "    <tr>\n",
       "      <th>unique</th>\n",
       "      <td>6</td>\n",
       "      <td>6</td>\n",
       "      <td>5</td>\n",
       "      <td>5</td>\n",
       "    </tr>\n",
       "    <tr>\n",
       "      <th>top</th>\n",
       "      <td>小陈</td>\n",
       "      <td>85</td>\n",
       "      <td>89</td>\n",
       "      <td>92</td>\n",
       "    </tr>\n",
       "    <tr>\n",
       "      <th>freq</th>\n",
       "      <td>1</td>\n",
       "      <td>1</td>\n",
       "      <td>2</td>\n",
       "      <td>2</td>\n",
       "    </tr>\n",
       "  </tbody>\n",
       "</table>\n",
       "</div>"
      ],
      "text/plain": [
       "        姓名  考试1  考试2  考试3\n",
       "count    6    6    6    6\n",
       "unique   6    6    5    5\n",
       "top     小陈   85   89   92\n",
       "freq     1    1    2    2"
      ]
     },
     "execution_count": 73,
     "metadata": {},
     "output_type": "execute_result"
    }
   ],
   "source": [
    "students.describe()"
   ]
  },
  {
   "cell_type": "code",
   "execution_count": 75,
   "id": "b3e0aab0-a885-4c64-b611-a44ff5fb0481",
   "metadata": {},
   "outputs": [],
   "source": [
    "students[\"考试1\"] = students[\"考试1\"].astype(\"int\")\n",
    "students[\"考试2\"] = students[\"考试2\"].astype(\"int\")\n",
    "students[\"考试3\"] = students[\"考试3\"].astype(\"int\")"
   ]
  },
  {
   "cell_type": "code",
   "execution_count": 76,
   "id": "89a9b391-1d05-46cc-80f3-48dcdda3c6c8",
   "metadata": {},
   "outputs": [
    {
     "data": {
      "text/html": [
       "<div>\n",
       "<style scoped>\n",
       "    .dataframe tbody tr th:only-of-type {\n",
       "        vertical-align: middle;\n",
       "    }\n",
       "\n",
       "    .dataframe tbody tr th {\n",
       "        vertical-align: top;\n",
       "    }\n",
       "\n",
       "    .dataframe thead th {\n",
       "        text-align: right;\n",
       "    }\n",
       "</style>\n",
       "<table border=\"1\" class=\"dataframe\">\n",
       "  <thead>\n",
       "    <tr style=\"text-align: right;\">\n",
       "      <th></th>\n",
       "      <th>考试1</th>\n",
       "      <th>考试2</th>\n",
       "      <th>考试3</th>\n",
       "    </tr>\n",
       "  </thead>\n",
       "  <tbody>\n",
       "    <tr>\n",
       "      <th>count</th>\n",
       "      <td>6.000000</td>\n",
       "      <td>6.000000</td>\n",
       "      <td>6.000000</td>\n",
       "    </tr>\n",
       "    <tr>\n",
       "      <th>mean</th>\n",
       "      <td>86.333333</td>\n",
       "      <td>89.500000</td>\n",
       "      <td>92.166667</td>\n",
       "    </tr>\n",
       "    <tr>\n",
       "      <th>std</th>\n",
       "      <td>6.314006</td>\n",
       "      <td>4.722288</td>\n",
       "      <td>2.136976</td>\n",
       "    </tr>\n",
       "    <tr>\n",
       "      <th>min</th>\n",
       "      <td>79.000000</td>\n",
       "      <td>81.000000</td>\n",
       "      <td>89.000000</td>\n",
       "    </tr>\n",
       "    <tr>\n",
       "      <th>25%</th>\n",
       "      <td>82.000000</td>\n",
       "      <td>89.000000</td>\n",
       "      <td>91.250000</td>\n",
       "    </tr>\n",
       "    <tr>\n",
       "      <th>50%</th>\n",
       "      <td>85.500000</td>\n",
       "      <td>90.000000</td>\n",
       "      <td>92.000000</td>\n",
       "    </tr>\n",
       "    <tr>\n",
       "      <th>75%</th>\n",
       "      <td>89.750000</td>\n",
       "      <td>91.750000</td>\n",
       "      <td>93.500000</td>\n",
       "    </tr>\n",
       "    <tr>\n",
       "      <th>max</th>\n",
       "      <td>96.000000</td>\n",
       "      <td>95.000000</td>\n",
       "      <td>95.000000</td>\n",
       "    </tr>\n",
       "  </tbody>\n",
       "</table>\n",
       "</div>"
      ],
      "text/plain": [
       "             考试1        考试2        考试3\n",
       "count   6.000000   6.000000   6.000000\n",
       "mean   86.333333  89.500000  92.166667\n",
       "std     6.314006   4.722288   2.136976\n",
       "min    79.000000  81.000000  89.000000\n",
       "25%    82.000000  89.000000  91.250000\n",
       "50%    85.500000  90.000000  92.000000\n",
       "75%    89.750000  91.750000  93.500000\n",
       "max    96.000000  95.000000  95.000000"
      ]
     },
     "execution_count": 76,
     "metadata": {},
     "output_type": "execute_result"
    }
   ],
   "source": [
    "students.describe()"
   ]
  },
  {
   "cell_type": "code",
   "execution_count": null,
   "id": "bfb80907-79d3-43c1-802f-0c2ce8b50146",
   "metadata": {},
   "outputs": [],
   "source": []
  }
 ],
 "metadata": {
  "kernelspec": {
   "display_name": "Python 3 (ipykernel)",
   "language": "python",
   "name": "python3"
  },
  "language_info": {
   "codemirror_mode": {
    "name": "ipython",
    "version": 3
   },
   "file_extension": ".py",
   "mimetype": "text/x-python",
   "name": "python",
   "nbconvert_exporter": "python",
   "pygments_lexer": "ipython3",
   "version": "3.13.2"
  }
 },
 "nbformat": 4,
 "nbformat_minor": 5
}
