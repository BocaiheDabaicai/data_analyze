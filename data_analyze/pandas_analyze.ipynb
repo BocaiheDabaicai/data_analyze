{
 "cells": [
  {
   "cell_type": "code",
   "execution_count": 1,
   "id": "446cd463-79d9-40f2-ba20-1bac0e5934fb",
   "metadata": {},
   "outputs": [],
   "source": [
    "import pandas as pd"
   ]
  },
  {
   "cell_type": "code",
   "execution_count": 6,
   "id": "f9cc92bd-e481-4039-a3f3-0e064871b5c3",
   "metadata": {},
   "outputs": [
    {
     "name": "stdout",
     "output_type": "stream",
     "text": [
      "0    2\n",
      "1    3\n",
      "2    7\n",
      "3    8\n",
      "4    5\n",
      "5    1\n",
      "dtype: int64\n",
      "RangeIndex(start=0, stop=6, step=1)\n",
      "[2 3 7 8 5 1]\n"
     ]
    }
   ],
   "source": [
    "s1 = pd.Series([2,3,7,8,5,1])\n",
    "print(s1)\n",
    "print(s1.index)\n",
    "print(s1.values)"
   ]
  },
  {
   "cell_type": "code",
   "execution_count": 7,
   "id": "d3005ccc-cde3-4cee-80c3-6c358123eddd",
   "metadata": {},
   "outputs": [
    {
     "name": "stdout",
     "output_type": "stream",
     "text": [
      "7\n",
      "2    7\n",
      "3    8\n",
      "4    5\n",
      "dtype: int64\n"
     ]
    }
   ],
   "source": [
    "print(s1[2])\n",
    "print(s1[2:5])"
   ]
  },
  {
   "cell_type": "code",
   "execution_count": 8,
   "id": "ce25f8d3-d77b-4c64-9914-b90ee3dd63d0",
   "metadata": {},
   "outputs": [
    {
     "name": "stdout",
     "output_type": "stream",
     "text": [
      "a     2\n",
      "b     4\n",
      "d     7\n",
      "c     9\n",
      "e    11\n",
      "dtype: int64\n"
     ]
    }
   ],
   "source": [
    "s2 = pd.Series([2,4,7,9,11],index=[\"a\",\"b\",\"d\",\"c\",\"e\"])\n",
    "print(s2)"
   ]
  },
  {
   "cell_type": "code",
   "execution_count": 27,
   "id": "855047da-379b-4213-9a4e-ed93ca8059bf",
   "metadata": {},
   "outputs": [
    {
     "name": "stdout",
     "output_type": "stream",
     "text": [
      "7\n",
      "9\n",
      "d     7\n",
      "c     9\n",
      "e    11\n",
      "dtype: int64\n",
      "a    2\n",
      "b    4\n",
      "d    7\n",
      "c    9\n",
      "dtype: int64\n"
     ]
    }
   ],
   "source": [
    "print(s2.iloc[2])\n",
    "print(s2.loc[\"c\"])\n",
    "print(s2.iloc[2:5])\n",
    "print(s2.loc[\"a\":\"c\"])"
   ]
  },
  {
   "cell_type": "code",
   "execution_count": 13,
   "id": "f9cdb58c-45c4-4286-8db3-fb4e4a222305",
   "metadata": {},
   "outputs": [
    {
     "name": "stdout",
     "output_type": "stream",
     "text": [
      "big     23.2\n",
      "Tip     19.6\n",
      "Mari    10.2\n",
      "dtype: float64\n"
     ]
    }
   ],
   "source": [
    "s3 = pd.Series({\"big\":23.2,\"Tip\":19.6,\"Mari\":10.2})\n",
    "print(s3)"
   ]
  },
  {
   "cell_type": "code",
   "execution_count": 16,
   "id": "ec585fd7-1ab8-4593-9314-3b2c53e25d59",
   "metadata": {},
   "outputs": [
    {
     "name": "stdout",
     "output_type": "stream",
     "text": [
      "True\n"
     ]
    }
   ],
   "source": [
    "print(\"big\" in s3)"
   ]
  },
  {
   "cell_type": "code",
   "execution_count": 20,
   "id": "ca2ae2d9-6461-40dd-8cff-8713ec92013e",
   "metadata": {},
   "outputs": [
    {
     "name": "stdout",
     "output_type": "stream",
     "text": [
      "29.9\n",
      "29.9\n",
      "29.9\n"
     ]
    }
   ],
   "source": [
    "s3[\"big\"] = 29.9\n",
    "print(s3[\"big\"])\n",
    "print(s3.loc[\"big\"])\n",
    "print(s3.iloc[0])"
   ]
  },
  {
   "cell_type": "code",
   "execution_count": 28,
   "id": "c573d6a2-18e6-448f-9bab-64166271cc5a",
   "metadata": {},
   "outputs": [
    {
     "name": "stdout",
     "output_type": "stream",
     "text": [
      "big    29.9\n",
      "dtype: float64\n",
      "big     29.9\n",
      "Tip     19.6\n",
      "Mari    10.2\n",
      "dtype: float64\n",
      "Tip     19.6\n",
      "Mari    10.2\n",
      "dtype: float64\n"
     ]
    }
   ],
   "source": [
    "print(s3[s3>20])\n",
    "print(s3[(s3>10) & s3<30])\n",
    "print(s3[~(s3>20)])"
   ]
  },
  {
   "cell_type": "code",
   "execution_count": null,
   "id": "97464cde-8def-4982-bdbb-d0f1c13c6eca",
   "metadata": {},
   "outputs": [],
   "source": []
  }
 ],
 "metadata": {
  "kernelspec": {
   "display_name": "Python 3 (ipykernel)",
   "language": "python",
   "name": "python3"
  },
  "language_info": {
   "codemirror_mode": {
    "name": "ipython",
    "version": 3
   },
   "file_extension": ".py",
   "mimetype": "text/x-python",
   "name": "python",
   "nbconvert_exporter": "python",
   "pygments_lexer": "ipython3",
   "version": "3.13.2"
  }
 },
 "nbformat": 4,
 "nbformat_minor": 5
}
